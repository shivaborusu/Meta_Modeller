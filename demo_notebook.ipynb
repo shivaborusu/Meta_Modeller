{
 "cells": [
  {
   "cell_type": "code",
   "execution_count": 1,
   "id": "bfe1c74a",
   "metadata": {},
   "outputs": [],
   "source": [
    "#imports\n",
    "from preprocessor import pre_processor\n",
    "import pandas as pd"
   ]
  },
  {
   "cell_type": "code",
   "execution_count": null,
   "id": "587cb509",
   "metadata": {},
   "outputs": [],
   "source": [
    "dataset = pd.read_csv(\"\")\n",
    "model_type = 'regressor'/'classifier'\n",
    "target_name = \"target\""
   ]
  },
  {
   "cell_type": "code",
   "execution_count": null,
   "id": "1ba08c29",
   "metadata": {},
   "outputs": [],
   "source": [
    "train_df, test_df, train_target, test_target = pre_processor(dataset, target_name, model_type)"
   ]
  },
  {
   "cell_type": "code",
   "execution_count": null,
   "id": "738957f9",
   "metadata": {},
   "outputs": [],
   "source": [
    "model, metrics = build_model(train_df, train_target, test_df, test_target)"
   ]
  },
  {
   "cell_type": "code",
   "execution_count": null,
   "id": "08c1ae66",
   "metadata": {},
   "outputs": [],
   "source": []
  }
 ],
 "metadata": {
  "kernelspec": {
   "display_name": "Python 3 (ipykernel)",
   "language": "python",
   "name": "python3"
  },
  "language_info": {
   "codemirror_mode": {
    "name": "ipython",
    "version": 3
   },
   "file_extension": ".py",
   "mimetype": "text/x-python",
   "name": "python",
   "nbconvert_exporter": "python",
   "pygments_lexer": "ipython3",
   "version": "3.9.12"
  }
 },
 "nbformat": 4,
 "nbformat_minor": 5
}
