{
 "cells": [
  {
   "cell_type": "code",
   "execution_count": 41,
   "id": "5b90bc66",
   "metadata": {},
   "outputs": [],
   "source": [
    "#imports\n",
    "from preprocessor import PreProcessor\n",
    "from modeler import Modeller\n",
    "import pandas as pd\n",
    "\n",
    "import warnings\n",
    "warnings.filterwarnings('ignore')"
   ]
  },
  {
   "cell_type": "markdown",
   "id": "d40d5d2a",
   "metadata": {},
   "source": [
    "## Regression Demo"
   ]
  },
  {
   "cell_type": "code",
   "execution_count": 42,
   "id": "4f103396",
   "metadata": {},
   "outputs": [],
   "source": [
    "# # read the data set\n",
    "# dataset = pd.read_csv(\"/Users/shivaborusu/Development/Meta_Modeller/datasets/regression/car_prices/imports-85.data\", header=None)\n",
    "# model_type = 'regressor'\n",
    "# target_name = 25\n",
    "# feature_select = False"
   ]
  },
  {
   "cell_type": "code",
   "execution_count": 43,
   "id": "55a14c48",
   "metadata": {},
   "outputs": [],
   "source": [
    "# read the data set\n",
    "dataset = pd.read_csv(\"/Users/shivaborusu/Development/Meta_Modeller/datasets/regression/fish/fish.csv\")\n",
    "model_type = 'regressor'\n",
    "target_name = 'Weight'\n",
    "feature_select = True"
   ]
  },
  {
   "cell_type": "code",
   "execution_count": 44,
   "id": "e18f5d55",
   "metadata": {},
   "outputs": [],
   "source": [
    "# # read the data set\n",
    "# dataset_1 = pd.read_csv(\"/Users/shivaborusu/Development/Meta_Modeller/datasets/regression/house-prices/train.csv\")\n",
    "# dataset_2 = pd.read_csv(\"/Users/shivaborusu/Development/Meta_Modeller/datasets/regression/house-prices/train.csv\", header=None)\n",
    "\n",
    "# dataset = pd.concat([dataset_1, dataset_2], axis=1)\n",
    "\n",
    "# model_type = 'regressor'\n",
    "# target_name = 'SalePrice'\n",
    "# feature_select = True\n"
   ]
  },
  {
   "cell_type": "code",
   "execution_count": 45,
   "id": "3e3cdc8f",
   "metadata": {},
   "outputs": [
    {
     "data": {
      "text/html": [
       "<div>\n",
       "<style scoped>\n",
       "    .dataframe tbody tr th:only-of-type {\n",
       "        vertical-align: middle;\n",
       "    }\n",
       "\n",
       "    .dataframe tbody tr th {\n",
       "        vertical-align: top;\n",
       "    }\n",
       "\n",
       "    .dataframe thead th {\n",
       "        text-align: right;\n",
       "    }\n",
       "</style>\n",
       "<table border=\"1\" class=\"dataframe\">\n",
       "  <thead>\n",
       "    <tr style=\"text-align: right;\">\n",
       "      <th></th>\n",
       "      <th>Species</th>\n",
       "      <th>Weight</th>\n",
       "      <th>Length1</th>\n",
       "      <th>Length2</th>\n",
       "      <th>Length3</th>\n",
       "      <th>Height</th>\n",
       "      <th>Width</th>\n",
       "    </tr>\n",
       "  </thead>\n",
       "  <tbody>\n",
       "    <tr>\n",
       "      <th>0</th>\n",
       "      <td>Bream</td>\n",
       "      <td>242.0</td>\n",
       "      <td>23.2</td>\n",
       "      <td>25.4</td>\n",
       "      <td>30.0</td>\n",
       "      <td>11.5200</td>\n",
       "      <td>4.0200</td>\n",
       "    </tr>\n",
       "    <tr>\n",
       "      <th>1</th>\n",
       "      <td>Bream</td>\n",
       "      <td>290.0</td>\n",
       "      <td>24.0</td>\n",
       "      <td>26.3</td>\n",
       "      <td>31.2</td>\n",
       "      <td>12.4800</td>\n",
       "      <td>4.3056</td>\n",
       "    </tr>\n",
       "    <tr>\n",
       "      <th>2</th>\n",
       "      <td>Bream</td>\n",
       "      <td>340.0</td>\n",
       "      <td>23.9</td>\n",
       "      <td>26.5</td>\n",
       "      <td>31.1</td>\n",
       "      <td>12.3778</td>\n",
       "      <td>4.6961</td>\n",
       "    </tr>\n",
       "    <tr>\n",
       "      <th>3</th>\n",
       "      <td>Bream</td>\n",
       "      <td>363.0</td>\n",
       "      <td>26.3</td>\n",
       "      <td>29.0</td>\n",
       "      <td>33.5</td>\n",
       "      <td>12.7300</td>\n",
       "      <td>4.4555</td>\n",
       "    </tr>\n",
       "    <tr>\n",
       "      <th>4</th>\n",
       "      <td>Bream</td>\n",
       "      <td>430.0</td>\n",
       "      <td>26.5</td>\n",
       "      <td>29.0</td>\n",
       "      <td>34.0</td>\n",
       "      <td>12.4440</td>\n",
       "      <td>5.1340</td>\n",
       "    </tr>\n",
       "  </tbody>\n",
       "</table>\n",
       "</div>"
      ],
      "text/plain": [
       "  Species  Weight  Length1  Length2  Length3   Height   Width\n",
       "0   Bream   242.0     23.2     25.4     30.0  11.5200  4.0200\n",
       "1   Bream   290.0     24.0     26.3     31.2  12.4800  4.3056\n",
       "2   Bream   340.0     23.9     26.5     31.1  12.3778  4.6961\n",
       "3   Bream   363.0     26.3     29.0     33.5  12.7300  4.4555\n",
       "4   Bream   430.0     26.5     29.0     34.0  12.4440  5.1340"
      ]
     },
     "execution_count": 45,
     "metadata": {},
     "output_type": "execute_result"
    }
   ],
   "source": [
    "dataset.head()"
   ]
  },
  {
   "cell_type": "code",
   "execution_count": 46,
   "id": "16b33fd4",
   "metadata": {},
   "outputs": [
    {
     "name": "stdout",
     "output_type": "stream",
     "text": [
      "<class 'pandas.core.frame.DataFrame'>\n",
      "RangeIndex: 159 entries, 0 to 158\n",
      "Data columns (total 7 columns):\n",
      " #   Column   Non-Null Count  Dtype  \n",
      "---  ------   --------------  -----  \n",
      " 0   Species  159 non-null    object \n",
      " 1   Weight   159 non-null    float64\n",
      " 2   Length1  159 non-null    float64\n",
      " 3   Length2  159 non-null    float64\n",
      " 4   Length3  159 non-null    float64\n",
      " 5   Height   159 non-null    float64\n",
      " 6   Width    159 non-null    float64\n",
      "dtypes: float64(6), object(1)\n",
      "memory usage: 8.8+ KB\n"
     ]
    }
   ],
   "source": [
    "dataset.info()"
   ]
  },
  {
   "cell_type": "code",
   "execution_count": 47,
   "id": "e917e6be",
   "metadata": {},
   "outputs": [
    {
     "data": {
      "text/plain": [
       "Index(['Species', 'Weight', 'Length1', 'Length2', 'Length3', 'Height',\n",
       "       'Width'],\n",
       "      dtype='object')"
      ]
     },
     "execution_count": 47,
     "metadata": {},
     "output_type": "execute_result"
    }
   ],
   "source": [
    "dataset.columns"
   ]
  },
  {
   "cell_type": "code",
   "execution_count": 48,
   "id": "79d8ecb8",
   "metadata": {},
   "outputs": [],
   "source": [
    "pp = PreProcessor(dataset, model_type, target_name)"
   ]
  },
  {
   "cell_type": "code",
   "execution_count": 49,
   "id": "55b6a8d6",
   "metadata": {},
   "outputs": [],
   "source": [
    "x_train_df, x_test_df, y_train, y_test, num_cat_cols = pp.pre_processor()"
   ]
  },
  {
   "cell_type": "code",
   "execution_count": 50,
   "id": "64ec5eb6",
   "metadata": {},
   "outputs": [
    {
     "data": {
      "text/html": [
       "<div>\n",
       "<style scoped>\n",
       "    .dataframe tbody tr th:only-of-type {\n",
       "        vertical-align: middle;\n",
       "    }\n",
       "\n",
       "    .dataframe tbody tr th {\n",
       "        vertical-align: top;\n",
       "    }\n",
       "\n",
       "    .dataframe thead th {\n",
       "        text-align: right;\n",
       "    }\n",
       "</style>\n",
       "<table border=\"1\" class=\"dataframe\">\n",
       "  <thead>\n",
       "    <tr style=\"text-align: right;\">\n",
       "      <th></th>\n",
       "      <th>Length1</th>\n",
       "      <th>Length2</th>\n",
       "      <th>Length3</th>\n",
       "      <th>Height</th>\n",
       "      <th>Width</th>\n",
       "      <th>Species</th>\n",
       "    </tr>\n",
       "  </thead>\n",
       "  <tbody>\n",
       "    <tr>\n",
       "      <th>0</th>\n",
       "      <td>305.239456</td>\n",
       "      <td>0.388530</td>\n",
       "      <td>0.359948</td>\n",
       "      <td>0.365292</td>\n",
       "      <td>0.212411</td>\n",
       "      <td>0.538304</td>\n",
       "    </tr>\n",
       "    <tr>\n",
       "      <th>1</th>\n",
       "      <td>554.034743</td>\n",
       "      <td>0.745103</td>\n",
       "      <td>0.801713</td>\n",
       "      <td>0.946388</td>\n",
       "      <td>2.007583</td>\n",
       "      <td>1.302926</td>\n",
       "    </tr>\n",
       "    <tr>\n",
       "      <th>2</th>\n",
       "      <td>364.743503</td>\n",
       "      <td>0.837954</td>\n",
       "      <td>0.801713</td>\n",
       "      <td>0.701859</td>\n",
       "      <td>0.456414</td>\n",
       "      <td>1.158717</td>\n",
       "    </tr>\n",
       "    <tr>\n",
       "      <th>3</th>\n",
       "      <td>545.592253</td>\n",
       "      <td>2.335765</td>\n",
       "      <td>2.349476</td>\n",
       "      <td>2.321567</td>\n",
       "      <td>0.238897</td>\n",
       "      <td>1.022668</td>\n",
       "    </tr>\n",
       "    <tr>\n",
       "      <th>4</th>\n",
       "      <td>364.743503</td>\n",
       "      <td>0.787566</td>\n",
       "      <td>0.721639</td>\n",
       "      <td>0.625502</td>\n",
       "      <td>0.464574</td>\n",
       "      <td>1.386861</td>\n",
       "    </tr>\n",
       "  </tbody>\n",
       "</table>\n",
       "</div>"
      ],
      "text/plain": [
       "      Length1   Length2   Length3    Height     Width   Species\n",
       "0  305.239456  0.388530  0.359948  0.365292  0.212411  0.538304\n",
       "1  554.034743  0.745103  0.801713  0.946388  2.007583  1.302926\n",
       "2  364.743503  0.837954  0.801713  0.701859  0.456414  1.158717\n",
       "3  545.592253  2.335765  2.349476  2.321567  0.238897  1.022668\n",
       "4  364.743503  0.787566  0.721639  0.625502  0.464574  1.386861"
      ]
     },
     "execution_count": 50,
     "metadata": {},
     "output_type": "execute_result"
    }
   ],
   "source": [
    "x_train_df.head()"
   ]
  },
  {
   "cell_type": "code",
   "execution_count": 51,
   "id": "823c4ecf",
   "metadata": {},
   "outputs": [
    {
     "data": {
      "text/html": [
       "<div>\n",
       "<style scoped>\n",
       "    .dataframe tbody tr th:only-of-type {\n",
       "        vertical-align: middle;\n",
       "    }\n",
       "\n",
       "    .dataframe tbody tr th {\n",
       "        vertical-align: top;\n",
       "    }\n",
       "\n",
       "    .dataframe thead th {\n",
       "        text-align: right;\n",
       "    }\n",
       "</style>\n",
       "<table border=\"1\" class=\"dataframe\">\n",
       "  <thead>\n",
       "    <tr style=\"text-align: right;\">\n",
       "      <th></th>\n",
       "      <th>Length1</th>\n",
       "      <th>Length2</th>\n",
       "      <th>Length3</th>\n",
       "      <th>Height</th>\n",
       "      <th>Width</th>\n",
       "      <th>Species</th>\n",
       "    </tr>\n",
       "  </thead>\n",
       "  <tbody>\n",
       "    <tr>\n",
       "      <th>0</th>\n",
       "      <td>327.222687</td>\n",
       "      <td>-1.973881</td>\n",
       "      <td>-2.027958</td>\n",
       "      <td>-1.955171</td>\n",
       "      <td>-2.144525</td>\n",
       "      <td>-2.035456</td>\n",
       "    </tr>\n",
       "    <tr>\n",
       "      <th>1</th>\n",
       "      <td>327.222687</td>\n",
       "      <td>-1.467434</td>\n",
       "      <td>-1.461029</td>\n",
       "      <td>-1.480036</td>\n",
       "      <td>-1.727537</td>\n",
       "      <td>-1.648791</td>\n",
       "    </tr>\n",
       "    <tr>\n",
       "      <th>2</th>\n",
       "      <td>554.034743</td>\n",
       "      <td>0.294222</td>\n",
       "      <td>0.271366</td>\n",
       "      <td>0.461439</td>\n",
       "      <td>1.192401</td>\n",
       "      <td>0.294091</td>\n",
       "    </tr>\n",
       "    <tr>\n",
       "      <th>3</th>\n",
       "      <td>364.743503</td>\n",
       "      <td>-1.676960</td>\n",
       "      <td>-1.649227</td>\n",
       "      <td>-1.670317</td>\n",
       "      <td>-1.496063</td>\n",
       "      <td>-1.571302</td>\n",
       "    </tr>\n",
       "    <tr>\n",
       "      <th>4</th>\n",
       "      <td>364.743503</td>\n",
       "      <td>-0.013435</td>\n",
       "      <td>-0.025192</td>\n",
       "      <td>-0.154499</td>\n",
       "      <td>-0.392437</td>\n",
       "      <td>-0.093409</td>\n",
       "    </tr>\n",
       "  </tbody>\n",
       "</table>\n",
       "</div>"
      ],
      "text/plain": [
       "      Length1   Length2   Length3    Height     Width   Species\n",
       "0  327.222687 -1.973881 -2.027958 -1.955171 -2.144525 -2.035456\n",
       "1  327.222687 -1.467434 -1.461029 -1.480036 -1.727537 -1.648791\n",
       "2  554.034743  0.294222  0.271366  0.461439  1.192401  0.294091\n",
       "3  364.743503 -1.676960 -1.649227 -1.670317 -1.496063 -1.571302\n",
       "4  364.743503 -0.013435 -0.025192 -0.154499 -0.392437 -0.093409"
      ]
     },
     "execution_count": 51,
     "metadata": {},
     "output_type": "execute_result"
    }
   ],
   "source": [
    "x_test_df.head()"
   ]
  },
  {
   "cell_type": "code",
   "execution_count": 52,
   "id": "b9a54af8",
   "metadata": {},
   "outputs": [],
   "source": [
    "md = Modeller(x_train_df, y_train, x_test_df, y_test, model_type, num_cat_cols, feature_select)"
   ]
  },
  {
   "cell_type": "code",
   "execution_count": 53,
   "id": "43b68d06",
   "metadata": {
    "scrolled": false
   },
   "outputs": [
    {
     "name": "stdout",
     "output_type": "stream",
     "text": [
      "Feature Selection is Running.....\n",
      "\n",
      "Selected Features:  ['Length1', 'Length2', 'Length3', 'Height', 'Width', 'Species']\n",
      "\n",
      "Best Model for Model ID 1:    LGBMRegressor(learning_rate=0.03, max_depth=3, num_leaves=7, random_state=11)\n",
      "Best Params for Model ID 1:    {'num_leaves': 7, 'n_estimators': 100, 'max_depth': 3, 'learning_rate': 0.03}\n",
      "\n",
      "Best Model for Model ID 2:    KNeighborsRegressor(algorithm='brute', n_neighbors=3, weights='distance')\n",
      "Best Params for Model ID 2:    {'weights': 'distance', 'n_neighbors': 3, 'algorithm': 'brute'}\n",
      "\n",
      "Best Model for Model ID 3:    LinearRegression()\n",
      "Best Params for Model ID 3:    {'fit_intercept': True}\n",
      "\n",
      "Best Model for Model ID 4:    RandomForestRegressor(max_depth=5, n_estimators=200, random_state=11)\n",
      "Best Params for Model ID 4:    {'n_estimators': 200, 'min_samples_split': 2, 'max_depth': 5, 'criterion': 'squared_error'}\n",
      "\n",
      "Best Model for Model ID 5:    SVR(C=1, degree=4, kernel='linear')\n",
      "Best Params for Model ID 5:    {'kernel': 'linear', 'degree': 4, 'C': 1}\n",
      "\n",
      "Best Model for Model ID 6:    Ridge(alpha=0.2, solver='svd')\n",
      "Best Params for Model ID 6:    {'solver': 'svd', 'random_state': None, 'alpha': 0.2}\n",
      "\n"
     ]
    }
   ],
   "source": [
    "metrics_dict = md.build_model()"
   ]
  },
  {
   "cell_type": "code",
   "execution_count": 54,
   "id": "21c75b3c",
   "metadata": {},
   "outputs": [
    {
     "data": {
      "text/plain": [
       "{'model_1': {'r2_score': 0.9421033168144203, 'MSE': 5475.385839374458},\n",
       " 'model_2': {'r2_score': 0.9712128352182026, 'MSE': 2722.4501599989935},\n",
       " 'model_3': {'r2_score': 0.7923537815616875, 'MSE': 19637.449012277255},\n",
       " 'model_4': {'r2_score': 0.9682205157972323, 'MSE': 3005.438795668303},\n",
       " 'model_5': {'r2_score': 0.6825772954664632, 'MSE': 30019.194293530007},\n",
       " 'model_6': {'r2_score': 0.7865612858810132, 'MSE': 20185.25498456309}}"
      ]
     },
     "execution_count": 54,
     "metadata": {},
     "output_type": "execute_result"
    }
   ],
   "source": [
    "metrics_dict"
   ]
  },
  {
   "cell_type": "code",
   "execution_count": 55,
   "id": "cd47c6d4",
   "metadata": {},
   "outputs": [
    {
     "name": "stdout",
     "output_type": "stream",
     "text": [
      " * Serving Flask app \"app\" (lazy loading)\n",
      " * Environment: production\n",
      "\u001b[31m   WARNING: This is a development server. Do not use it in a production deployment.\u001b[0m\n",
      "\u001b[2m   Use a production WSGI server instead.\u001b[0m\n",
      " * Debug mode: on\n",
      " * Running on http://127.0.0.1:5000/ (Press CTRL+C to quit)\n",
      " * Restarting with watchdog (fsevents)\n",
      " * Debugger is active!\n",
      " * Debugger PIN: 596-221-605\n",
      "127.0.0.1 - - [11/Sep/2022 14:46:40] \"\u001b[33mGET / HTTP/1.1\u001b[0m\" 404 -\n",
      "127.0.0.1 - - [11/Sep/2022 14:46:43] \"GET /apidocs/ HTTP/1.1\" 200 -\n",
      "127.0.0.1 - - [11/Sep/2022 14:46:44] \"GET /apispec_1.json HTTP/1.1\" 200 -\n",
      "127.0.0.1 - - [11/Sep/2022 14:47:33] \"POST /predict HTTP/1.1\" 200 -\n",
      "^C\n"
     ]
    }
   ],
   "source": [
    "!python app.py"
   ]
  },
  {
   "cell_type": "markdown",
   "id": "6dcc9170",
   "metadata": {},
   "source": [
    "## Classification Demo"
   ]
  },
  {
   "cell_type": "code",
   "execution_count": 56,
   "id": "7bba4609",
   "metadata": {},
   "outputs": [],
   "source": [
    "#imports\n",
    "from preprocessor import PreProcessor\n",
    "from modeler import Modeller\n",
    "import pandas as pd"
   ]
  },
  {
   "cell_type": "code",
   "execution_count": 57,
   "id": "9f1b913b",
   "metadata": {},
   "outputs": [],
   "source": [
    "# #prima indians diabetes dataset\n",
    "# dataset = pd.read_csv(\"/Users/shivaborusu/Development/Meta_Modeller/datasets/classification/pima-indians-diabetes.csv\", header=None)\n",
    "# model_type = 'classifier'\n",
    "# target_name = 8"
   ]
  },
  {
   "cell_type": "code",
   "execution_count": 58,
   "id": "031ffc78",
   "metadata": {},
   "outputs": [],
   "source": [
    "#sonar dataset\n",
    "dataset = pd.read_csv(\"/Users/shivaborusu/Development/Meta_Modeller/datasets/classification/sonar.all-data\", header=None)\n",
    "model_type = 'classifier'\n",
    "target_name = 60"
   ]
  },
  {
   "cell_type": "code",
   "execution_count": 59,
   "id": "9808f51b",
   "metadata": {},
   "outputs": [],
   "source": [
    "# #banknote authentication\n",
    "# dataset = pd.read_csv(\"/Users/shivaborusu/Development/Meta_Modeller/datasets/classification/data_banknote_authentication.txt\", header=None)\n",
    "# model_type = 'classifier'\n",
    "# target_name = 4"
   ]
  },
  {
   "cell_type": "code",
   "execution_count": 60,
   "id": "c26e4433",
   "metadata": {},
   "outputs": [],
   "source": [
    "# #iris dataset - multi class\n",
    "# dataset = pd.read_csv(\"/Users/shivaborusu/Development/Meta_Modeller/datasets/classification/iris.csv\", header='infer')\n",
    "# model_type = 'classifier'\n",
    "# target_name = 'target'"
   ]
  },
  {
   "cell_type": "code",
   "execution_count": 61,
   "id": "001a1a97",
   "metadata": {},
   "outputs": [
    {
     "data": {
      "text/html": [
       "<div>\n",
       "<style scoped>\n",
       "    .dataframe tbody tr th:only-of-type {\n",
       "        vertical-align: middle;\n",
       "    }\n",
       "\n",
       "    .dataframe tbody tr th {\n",
       "        vertical-align: top;\n",
       "    }\n",
       "\n",
       "    .dataframe thead th {\n",
       "        text-align: right;\n",
       "    }\n",
       "</style>\n",
       "<table border=\"1\" class=\"dataframe\">\n",
       "  <thead>\n",
       "    <tr style=\"text-align: right;\">\n",
       "      <th></th>\n",
       "      <th>0</th>\n",
       "      <th>1</th>\n",
       "      <th>2</th>\n",
       "      <th>3</th>\n",
       "      <th>4</th>\n",
       "      <th>5</th>\n",
       "      <th>6</th>\n",
       "      <th>7</th>\n",
       "      <th>8</th>\n",
       "      <th>9</th>\n",
       "      <th>...</th>\n",
       "      <th>51</th>\n",
       "      <th>52</th>\n",
       "      <th>53</th>\n",
       "      <th>54</th>\n",
       "      <th>55</th>\n",
       "      <th>56</th>\n",
       "      <th>57</th>\n",
       "      <th>58</th>\n",
       "      <th>59</th>\n",
       "      <th>60</th>\n",
       "    </tr>\n",
       "  </thead>\n",
       "  <tbody>\n",
       "    <tr>\n",
       "      <th>0</th>\n",
       "      <td>0.0200</td>\n",
       "      <td>0.0371</td>\n",
       "      <td>0.0428</td>\n",
       "      <td>0.0207</td>\n",
       "      <td>0.0954</td>\n",
       "      <td>0.0986</td>\n",
       "      <td>0.1539</td>\n",
       "      <td>0.1601</td>\n",
       "      <td>0.3109</td>\n",
       "      <td>0.2111</td>\n",
       "      <td>...</td>\n",
       "      <td>0.0027</td>\n",
       "      <td>0.0065</td>\n",
       "      <td>0.0159</td>\n",
       "      <td>0.0072</td>\n",
       "      <td>0.0167</td>\n",
       "      <td>0.0180</td>\n",
       "      <td>0.0084</td>\n",
       "      <td>0.0090</td>\n",
       "      <td>0.0032</td>\n",
       "      <td>R</td>\n",
       "    </tr>\n",
       "    <tr>\n",
       "      <th>1</th>\n",
       "      <td>0.0453</td>\n",
       "      <td>0.0523</td>\n",
       "      <td>0.0843</td>\n",
       "      <td>0.0689</td>\n",
       "      <td>0.1183</td>\n",
       "      <td>0.2583</td>\n",
       "      <td>0.2156</td>\n",
       "      <td>0.3481</td>\n",
       "      <td>0.3337</td>\n",
       "      <td>0.2872</td>\n",
       "      <td>...</td>\n",
       "      <td>0.0084</td>\n",
       "      <td>0.0089</td>\n",
       "      <td>0.0048</td>\n",
       "      <td>0.0094</td>\n",
       "      <td>0.0191</td>\n",
       "      <td>0.0140</td>\n",
       "      <td>0.0049</td>\n",
       "      <td>0.0052</td>\n",
       "      <td>0.0044</td>\n",
       "      <td>R</td>\n",
       "    </tr>\n",
       "    <tr>\n",
       "      <th>2</th>\n",
       "      <td>0.0262</td>\n",
       "      <td>0.0582</td>\n",
       "      <td>0.1099</td>\n",
       "      <td>0.1083</td>\n",
       "      <td>0.0974</td>\n",
       "      <td>0.2280</td>\n",
       "      <td>0.2431</td>\n",
       "      <td>0.3771</td>\n",
       "      <td>0.5598</td>\n",
       "      <td>0.6194</td>\n",
       "      <td>...</td>\n",
       "      <td>0.0232</td>\n",
       "      <td>0.0166</td>\n",
       "      <td>0.0095</td>\n",
       "      <td>0.0180</td>\n",
       "      <td>0.0244</td>\n",
       "      <td>0.0316</td>\n",
       "      <td>0.0164</td>\n",
       "      <td>0.0095</td>\n",
       "      <td>0.0078</td>\n",
       "      <td>R</td>\n",
       "    </tr>\n",
       "    <tr>\n",
       "      <th>3</th>\n",
       "      <td>0.0100</td>\n",
       "      <td>0.0171</td>\n",
       "      <td>0.0623</td>\n",
       "      <td>0.0205</td>\n",
       "      <td>0.0205</td>\n",
       "      <td>0.0368</td>\n",
       "      <td>0.1098</td>\n",
       "      <td>0.1276</td>\n",
       "      <td>0.0598</td>\n",
       "      <td>0.1264</td>\n",
       "      <td>...</td>\n",
       "      <td>0.0121</td>\n",
       "      <td>0.0036</td>\n",
       "      <td>0.0150</td>\n",
       "      <td>0.0085</td>\n",
       "      <td>0.0073</td>\n",
       "      <td>0.0050</td>\n",
       "      <td>0.0044</td>\n",
       "      <td>0.0040</td>\n",
       "      <td>0.0117</td>\n",
       "      <td>R</td>\n",
       "    </tr>\n",
       "    <tr>\n",
       "      <th>4</th>\n",
       "      <td>0.0762</td>\n",
       "      <td>0.0666</td>\n",
       "      <td>0.0481</td>\n",
       "      <td>0.0394</td>\n",
       "      <td>0.0590</td>\n",
       "      <td>0.0649</td>\n",
       "      <td>0.1209</td>\n",
       "      <td>0.2467</td>\n",
       "      <td>0.3564</td>\n",
       "      <td>0.4459</td>\n",
       "      <td>...</td>\n",
       "      <td>0.0031</td>\n",
       "      <td>0.0054</td>\n",
       "      <td>0.0105</td>\n",
       "      <td>0.0110</td>\n",
       "      <td>0.0015</td>\n",
       "      <td>0.0072</td>\n",
       "      <td>0.0048</td>\n",
       "      <td>0.0107</td>\n",
       "      <td>0.0094</td>\n",
       "      <td>R</td>\n",
       "    </tr>\n",
       "  </tbody>\n",
       "</table>\n",
       "<p>5 rows × 61 columns</p>\n",
       "</div>"
      ],
      "text/plain": [
       "       0       1       2       3       4       5       6       7       8   \\\n",
       "0  0.0200  0.0371  0.0428  0.0207  0.0954  0.0986  0.1539  0.1601  0.3109   \n",
       "1  0.0453  0.0523  0.0843  0.0689  0.1183  0.2583  0.2156  0.3481  0.3337   \n",
       "2  0.0262  0.0582  0.1099  0.1083  0.0974  0.2280  0.2431  0.3771  0.5598   \n",
       "3  0.0100  0.0171  0.0623  0.0205  0.0205  0.0368  0.1098  0.1276  0.0598   \n",
       "4  0.0762  0.0666  0.0481  0.0394  0.0590  0.0649  0.1209  0.2467  0.3564   \n",
       "\n",
       "       9   ...      51      52      53      54      55      56      57  \\\n",
       "0  0.2111  ...  0.0027  0.0065  0.0159  0.0072  0.0167  0.0180  0.0084   \n",
       "1  0.2872  ...  0.0084  0.0089  0.0048  0.0094  0.0191  0.0140  0.0049   \n",
       "2  0.6194  ...  0.0232  0.0166  0.0095  0.0180  0.0244  0.0316  0.0164   \n",
       "3  0.1264  ...  0.0121  0.0036  0.0150  0.0085  0.0073  0.0050  0.0044   \n",
       "4  0.4459  ...  0.0031  0.0054  0.0105  0.0110  0.0015  0.0072  0.0048   \n",
       "\n",
       "       58      59  60  \n",
       "0  0.0090  0.0032   R  \n",
       "1  0.0052  0.0044   R  \n",
       "2  0.0095  0.0078   R  \n",
       "3  0.0040  0.0117   R  \n",
       "4  0.0107  0.0094   R  \n",
       "\n",
       "[5 rows x 61 columns]"
      ]
     },
     "execution_count": 61,
     "metadata": {},
     "output_type": "execute_result"
    }
   ],
   "source": [
    "dataset.head()"
   ]
  },
  {
   "cell_type": "code",
   "execution_count": 62,
   "id": "576e7216",
   "metadata": {},
   "outputs": [
    {
     "name": "stdout",
     "output_type": "stream",
     "text": [
      "<class 'pandas.core.frame.DataFrame'>\n",
      "RangeIndex: 208 entries, 0 to 207\n",
      "Data columns (total 61 columns):\n",
      " #   Column  Non-Null Count  Dtype  \n",
      "---  ------  --------------  -----  \n",
      " 0   0       208 non-null    float64\n",
      " 1   1       208 non-null    float64\n",
      " 2   2       208 non-null    float64\n",
      " 3   3       208 non-null    float64\n",
      " 4   4       208 non-null    float64\n",
      " 5   5       208 non-null    float64\n",
      " 6   6       208 non-null    float64\n",
      " 7   7       208 non-null    float64\n",
      " 8   8       208 non-null    float64\n",
      " 9   9       208 non-null    float64\n",
      " 10  10      208 non-null    float64\n",
      " 11  11      208 non-null    float64\n",
      " 12  12      208 non-null    float64\n",
      " 13  13      208 non-null    float64\n",
      " 14  14      208 non-null    float64\n",
      " 15  15      208 non-null    float64\n",
      " 16  16      208 non-null    float64\n",
      " 17  17      208 non-null    float64\n",
      " 18  18      208 non-null    float64\n",
      " 19  19      208 non-null    float64\n",
      " 20  20      208 non-null    float64\n",
      " 21  21      208 non-null    float64\n",
      " 22  22      208 non-null    float64\n",
      " 23  23      208 non-null    float64\n",
      " 24  24      208 non-null    float64\n",
      " 25  25      208 non-null    float64\n",
      " 26  26      208 non-null    float64\n",
      " 27  27      208 non-null    float64\n",
      " 28  28      208 non-null    float64\n",
      " 29  29      208 non-null    float64\n",
      " 30  30      208 non-null    float64\n",
      " 31  31      208 non-null    float64\n",
      " 32  32      208 non-null    float64\n",
      " 33  33      208 non-null    float64\n",
      " 34  34      208 non-null    float64\n",
      " 35  35      208 non-null    float64\n",
      " 36  36      208 non-null    float64\n",
      " 37  37      208 non-null    float64\n",
      " 38  38      208 non-null    float64\n",
      " 39  39      208 non-null    float64\n",
      " 40  40      208 non-null    float64\n",
      " 41  41      208 non-null    float64\n",
      " 42  42      208 non-null    float64\n",
      " 43  43      208 non-null    float64\n",
      " 44  44      208 non-null    float64\n",
      " 45  45      208 non-null    float64\n",
      " 46  46      208 non-null    float64\n",
      " 47  47      208 non-null    float64\n",
      " 48  48      208 non-null    float64\n",
      " 49  49      208 non-null    float64\n",
      " 50  50      208 non-null    float64\n",
      " 51  51      208 non-null    float64\n",
      " 52  52      208 non-null    float64\n",
      " 53  53      208 non-null    float64\n",
      " 54  54      208 non-null    float64\n",
      " 55  55      208 non-null    float64\n",
      " 56  56      208 non-null    float64\n",
      " 57  57      208 non-null    float64\n",
      " 58  58      208 non-null    float64\n",
      " 59  59      208 non-null    float64\n",
      " 60  60      208 non-null    object \n",
      "dtypes: float64(60), object(1)\n",
      "memory usage: 99.2+ KB\n"
     ]
    }
   ],
   "source": [
    "dataset.info()"
   ]
  },
  {
   "cell_type": "code",
   "execution_count": 63,
   "id": "7c3bcf92",
   "metadata": {},
   "outputs": [],
   "source": [
    "pp = PreProcessor(dataset, model_type, target_name)"
   ]
  },
  {
   "cell_type": "code",
   "execution_count": 64,
   "id": "f35bdd8f",
   "metadata": {},
   "outputs": [
    {
     "name": "stdout",
     "output_type": "stream",
     "text": [
      "No Category Columns, only numerical processing will run...\n"
     ]
    }
   ],
   "source": [
    "x_train_df, x_test_df, y_train, y_test, cols_list = pp.pre_processor()"
   ]
  },
  {
   "cell_type": "code",
   "execution_count": 65,
   "id": "63d37c61",
   "metadata": {},
   "outputs": [],
   "source": [
    "md = Modeller(x_train_df, y_train, x_test_df, y_test, model_type, cols_list, feature_select=False)"
   ]
  },
  {
   "cell_type": "code",
   "execution_count": 66,
   "id": "e731f2ae",
   "metadata": {},
   "outputs": [
    {
     "name": "stdout",
     "output_type": "stream",
     "text": [
      "Best Model for Model ID 1:    LGBMClassifier(learning_rate=0.03, n_estimators=500, num_leaves=14,\n",
      "               random_state=11)\n",
      "Best Params for Model ID 1:    {'num_leaves': 14, 'n_estimators': 500, 'max_depth': -1, 'learning_rate': 0.03, 'class_weight': None, 'boosting_type': 'gbdt'}\n",
      "\n",
      "Best Model for Model ID 2:    KNeighborsClassifier(algorithm='kd_tree', n_neighbors=3)\n",
      "Best Params for Model ID 2:    {'weights': 'uniform', 'n_neighbors': 3, 'leaf_size': 30, 'algorithm': 'kd_tree'}\n",
      "\n",
      "Best Model for Model ID 3:    LogisticRegression(C=0.2, random_state=11, solver='newton-cg')\n",
      "Best Params for Model ID 3:    {'solver': 'newton-cg', 'class_weight': None, 'C': 0.2}\n",
      "\n",
      "Best Model for Model ID 4:    RandomForestClassifier(criterion='entropy', max_depth=5, random_state=11)\n",
      "Best Params for Model ID 4:    {'n_estimators': 100, 'max_depth': 5, 'criterion': 'entropy'}\n",
      "\n",
      "Best Model for Model ID 5:    SVC(C=2, degree=4, random_state=11)\n",
      "Best Params for Model ID 5:    {'random_state': 11, 'kernel': 'rbf', 'degree': 4, 'class_weight': None, 'C': 2}\n",
      "\n",
      "Best Model for Model ID 6:    RidgeClassifier(alpha=1, random_state=11, solver='sag')\n",
      "Best Params for Model ID 6:    {'solver': 'sag', 'random_state': 11, 'class_weight': None, 'alpha': 1}\n",
      "\n"
     ]
    }
   ],
   "source": [
    "metrics_dict = md.build_model()"
   ]
  },
  {
   "cell_type": "code",
   "execution_count": 67,
   "id": "0a2d5913",
   "metadata": {},
   "outputs": [
    {
     "data": {
      "text/plain": [
       "{'model_1': {'f1_score': 0.8653348131705513, 'accuracy': 0.8653846153846154},\n",
       " 'model_2': {'f1_score': 0.6700261291526689, 'accuracy': 0.6730769230769231},\n",
       " 'model_3': {'f1_score': 0.8074074074074075, 'accuracy': 0.8076923076923077},\n",
       " 'model_4': {'f1_score': 0.8065476190476191, 'accuracy': 0.8076923076923077},\n",
       " 'model_5': {'f1_score': 0.8074074074074075, 'accuracy': 0.8076923076923077},\n",
       " 'model_6': {'f1_score': 0.7692307692307693, 'accuracy': 0.7692307692307693}}"
      ]
     },
     "execution_count": 67,
     "metadata": {},
     "output_type": "execute_result"
    }
   ],
   "source": [
    "metrics_dict"
   ]
  },
  {
   "cell_type": "code",
   "execution_count": 69,
   "id": "7854f8c1",
   "metadata": {},
   "outputs": [
    {
     "name": "stdout",
     "output_type": "stream",
     "text": [
      " * Serving Flask app \"app\" (lazy loading)\n",
      " * Environment: production\n",
      "\u001b[31m   WARNING: This is a development server. Do not use it in a production deployment.\u001b[0m\n",
      "\u001b[2m   Use a production WSGI server instead.\u001b[0m\n",
      " * Debug mode: on\n",
      " * Running on http://127.0.0.1:5000/ (Press CTRL+C to quit)\n",
      " * Restarting with watchdog (fsevents)\n",
      " * Debugger is active!\n",
      " * Debugger PIN: 596-221-605\n",
      "^C\n"
     ]
    }
   ],
   "source": [
    "!python app.py"
   ]
  },
  {
   "cell_type": "code",
   "execution_count": null,
   "id": "08090cd9",
   "metadata": {},
   "outputs": [],
   "source": []
  }
 ],
 "metadata": {
  "kernelspec": {
   "display_name": "Python 3 (ipykernel)",
   "language": "python",
   "name": "python3"
  },
  "language_info": {
   "codemirror_mode": {
    "name": "ipython",
    "version": 3
   },
   "file_extension": ".py",
   "mimetype": "text/x-python",
   "name": "python",
   "nbconvert_exporter": "python",
   "pygments_lexer": "ipython3",
   "version": "3.10.4"
  }
 },
 "nbformat": 4,
 "nbformat_minor": 5
}
