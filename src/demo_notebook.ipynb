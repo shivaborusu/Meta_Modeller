{
 "cells": [
  {
   "cell_type": "code",
   "execution_count": 1,
   "id": "5b90bc66",
   "metadata": {},
   "outputs": [],
   "source": [
    "#imports\n",
    "from preprocessor import PreProcessor\n",
    "from modeler import Modeller\n",
    "import pandas as pd"
   ]
  },
  {
   "cell_type": "markdown",
   "id": "05206892",
   "metadata": {},
   "source": [
    "## Regression Demo"
   ]
  },
  {
   "cell_type": "code",
   "execution_count": 2,
   "id": "4f103396",
   "metadata": {},
   "outputs": [],
   "source": [
    "# # read the data set\n",
    "# dataset = pd.read_csv(\"/Users/shivaborusu/Development/Meta_Modeller/datasets/regression/car_prices/imports-85.data\", header=None)\n",
    "# model_type = 'regressor'\n",
    "# target_name = 25\n",
    "# feature_select = False"
   ]
  },
  {
   "cell_type": "code",
   "execution_count": 3,
   "id": "55a14c48",
   "metadata": {},
   "outputs": [],
   "source": [
    "# read the data set\n",
    "dataset = pd.read_csv(\"/Users/shivaborusu/Development/Meta_Modeller/datasets/regression/fish/fish.csv\")\n",
    "model_type = 'regressor'\n",
    "target_name = 'Weight'\n",
    "feature_select = True"
   ]
  },
  {
   "cell_type": "code",
   "execution_count": 4,
   "id": "e18f5d55",
   "metadata": {},
   "outputs": [],
   "source": [
    "# # read the data set\n",
    "# dataset_1 = pd.read_csv(\"/Users/shivaborusu/Development/Meta_Modeller/datasets/regression/house-prices/train.csv\")\n",
    "# dataset_2 = pd.read_csv(\"/Users/shivaborusu/Development/Meta_Modeller/datasets/regression/house-prices/train.csv\", header=None)\n",
    "\n",
    "# dataset = pd.concat([dataset_1, dataset_2], axis=1)\n",
    "\n",
    "# model_type = 'regressor'\n",
    "# target_name = 'SalePrice'\n",
    "# feature_select = True\n"
   ]
  },
  {
   "cell_type": "code",
   "execution_count": 5,
   "id": "3e3cdc8f",
   "metadata": {},
   "outputs": [
    {
     "data": {
      "text/html": [
       "<div>\n",
       "<style scoped>\n",
       "    .dataframe tbody tr th:only-of-type {\n",
       "        vertical-align: middle;\n",
       "    }\n",
       "\n",
       "    .dataframe tbody tr th {\n",
       "        vertical-align: top;\n",
       "    }\n",
       "\n",
       "    .dataframe thead th {\n",
       "        text-align: right;\n",
       "    }\n",
       "</style>\n",
       "<table border=\"1\" class=\"dataframe\">\n",
       "  <thead>\n",
       "    <tr style=\"text-align: right;\">\n",
       "      <th></th>\n",
       "      <th>Species</th>\n",
       "      <th>Weight</th>\n",
       "      <th>Length1</th>\n",
       "      <th>Length2</th>\n",
       "      <th>Length3</th>\n",
       "      <th>Height</th>\n",
       "      <th>Width</th>\n",
       "    </tr>\n",
       "  </thead>\n",
       "  <tbody>\n",
       "    <tr>\n",
       "      <th>0</th>\n",
       "      <td>Bream</td>\n",
       "      <td>242.0</td>\n",
       "      <td>23.2</td>\n",
       "      <td>25.4</td>\n",
       "      <td>30.0</td>\n",
       "      <td>11.5200</td>\n",
       "      <td>4.0200</td>\n",
       "    </tr>\n",
       "    <tr>\n",
       "      <th>1</th>\n",
       "      <td>Bream</td>\n",
       "      <td>290.0</td>\n",
       "      <td>24.0</td>\n",
       "      <td>26.3</td>\n",
       "      <td>31.2</td>\n",
       "      <td>12.4800</td>\n",
       "      <td>4.3056</td>\n",
       "    </tr>\n",
       "    <tr>\n",
       "      <th>2</th>\n",
       "      <td>Bream</td>\n",
       "      <td>340.0</td>\n",
       "      <td>23.9</td>\n",
       "      <td>26.5</td>\n",
       "      <td>31.1</td>\n",
       "      <td>12.3778</td>\n",
       "      <td>4.6961</td>\n",
       "    </tr>\n",
       "    <tr>\n",
       "      <th>3</th>\n",
       "      <td>Bream</td>\n",
       "      <td>363.0</td>\n",
       "      <td>26.3</td>\n",
       "      <td>29.0</td>\n",
       "      <td>33.5</td>\n",
       "      <td>12.7300</td>\n",
       "      <td>4.4555</td>\n",
       "    </tr>\n",
       "    <tr>\n",
       "      <th>4</th>\n",
       "      <td>Bream</td>\n",
       "      <td>430.0</td>\n",
       "      <td>26.5</td>\n",
       "      <td>29.0</td>\n",
       "      <td>34.0</td>\n",
       "      <td>12.4440</td>\n",
       "      <td>5.1340</td>\n",
       "    </tr>\n",
       "  </tbody>\n",
       "</table>\n",
       "</div>"
      ],
      "text/plain": [
       "  Species  Weight  Length1  Length2  Length3   Height   Width\n",
       "0   Bream   242.0     23.2     25.4     30.0  11.5200  4.0200\n",
       "1   Bream   290.0     24.0     26.3     31.2  12.4800  4.3056\n",
       "2   Bream   340.0     23.9     26.5     31.1  12.3778  4.6961\n",
       "3   Bream   363.0     26.3     29.0     33.5  12.7300  4.4555\n",
       "4   Bream   430.0     26.5     29.0     34.0  12.4440  5.1340"
      ]
     },
     "execution_count": 5,
     "metadata": {},
     "output_type": "execute_result"
    }
   ],
   "source": [
    "dataset.head()"
   ]
  },
  {
   "cell_type": "code",
   "execution_count": 6,
   "id": "16b33fd4",
   "metadata": {},
   "outputs": [
    {
     "name": "stdout",
     "output_type": "stream",
     "text": [
      "<class 'pandas.core.frame.DataFrame'>\n",
      "RangeIndex: 159 entries, 0 to 158\n",
      "Data columns (total 7 columns):\n",
      " #   Column   Non-Null Count  Dtype  \n",
      "---  ------   --------------  -----  \n",
      " 0   Species  159 non-null    object \n",
      " 1   Weight   159 non-null    float64\n",
      " 2   Length1  159 non-null    float64\n",
      " 3   Length2  159 non-null    float64\n",
      " 4   Length3  159 non-null    float64\n",
      " 5   Height   159 non-null    float64\n",
      " 6   Width    159 non-null    float64\n",
      "dtypes: float64(6), object(1)\n",
      "memory usage: 8.8+ KB\n"
     ]
    }
   ],
   "source": [
    "dataset.info()"
   ]
  },
  {
   "cell_type": "code",
   "execution_count": 7,
   "id": "e917e6be",
   "metadata": {},
   "outputs": [
    {
     "data": {
      "text/plain": [
       "Index(['Species', 'Weight', 'Length1', 'Length2', 'Length3', 'Height',\n",
       "       'Width'],\n",
       "      dtype='object')"
      ]
     },
     "execution_count": 7,
     "metadata": {},
     "output_type": "execute_result"
    }
   ],
   "source": [
    "dataset.columns"
   ]
  },
  {
   "cell_type": "code",
   "execution_count": 8,
   "id": "79d8ecb8",
   "metadata": {},
   "outputs": [],
   "source": [
    "pp = PreProcessor(dataset, model_type, target_name)"
   ]
  },
  {
   "cell_type": "code",
   "execution_count": 9,
   "id": "55b6a8d6",
   "metadata": {},
   "outputs": [],
   "source": [
    "x_train_df, x_test_df, y_train, y_test, num_cat_cols = pp.pre_processor()"
   ]
  },
  {
   "cell_type": "code",
   "execution_count": 10,
   "id": "64ec5eb6",
   "metadata": {},
   "outputs": [
    {
     "data": {
      "text/html": [
       "<div>\n",
       "<style scoped>\n",
       "    .dataframe tbody tr th:only-of-type {\n",
       "        vertical-align: middle;\n",
       "    }\n",
       "\n",
       "    .dataframe tbody tr th {\n",
       "        vertical-align: top;\n",
       "    }\n",
       "\n",
       "    .dataframe thead th {\n",
       "        text-align: right;\n",
       "    }\n",
       "</style>\n",
       "<table border=\"1\" class=\"dataframe\">\n",
       "  <thead>\n",
       "    <tr style=\"text-align: right;\">\n",
       "      <th></th>\n",
       "      <th>Length1</th>\n",
       "      <th>Length2</th>\n",
       "      <th>Length3</th>\n",
       "      <th>Height</th>\n",
       "      <th>Width</th>\n",
       "      <th>Species</th>\n",
       "    </tr>\n",
       "  </thead>\n",
       "  <tbody>\n",
       "    <tr>\n",
       "      <th>0</th>\n",
       "      <td>305.239456</td>\n",
       "      <td>0.388530</td>\n",
       "      <td>0.359948</td>\n",
       "      <td>0.365292</td>\n",
       "      <td>0.212411</td>\n",
       "      <td>0.538304</td>\n",
       "    </tr>\n",
       "    <tr>\n",
       "      <th>1</th>\n",
       "      <td>554.034743</td>\n",
       "      <td>0.745103</td>\n",
       "      <td>0.801713</td>\n",
       "      <td>0.946388</td>\n",
       "      <td>2.007583</td>\n",
       "      <td>1.302926</td>\n",
       "    </tr>\n",
       "    <tr>\n",
       "      <th>2</th>\n",
       "      <td>364.743503</td>\n",
       "      <td>0.837954</td>\n",
       "      <td>0.801713</td>\n",
       "      <td>0.701859</td>\n",
       "      <td>0.456414</td>\n",
       "      <td>1.158717</td>\n",
       "    </tr>\n",
       "    <tr>\n",
       "      <th>3</th>\n",
       "      <td>545.592253</td>\n",
       "      <td>2.335765</td>\n",
       "      <td>2.349476</td>\n",
       "      <td>2.321567</td>\n",
       "      <td>0.238897</td>\n",
       "      <td>1.022668</td>\n",
       "    </tr>\n",
       "    <tr>\n",
       "      <th>4</th>\n",
       "      <td>364.743503</td>\n",
       "      <td>0.787566</td>\n",
       "      <td>0.721639</td>\n",
       "      <td>0.625502</td>\n",
       "      <td>0.464574</td>\n",
       "      <td>1.386861</td>\n",
       "    </tr>\n",
       "  </tbody>\n",
       "</table>\n",
       "</div>"
      ],
      "text/plain": [
       "      Length1   Length2   Length3    Height     Width   Species\n",
       "0  305.239456  0.388530  0.359948  0.365292  0.212411  0.538304\n",
       "1  554.034743  0.745103  0.801713  0.946388  2.007583  1.302926\n",
       "2  364.743503  0.837954  0.801713  0.701859  0.456414  1.158717\n",
       "3  545.592253  2.335765  2.349476  2.321567  0.238897  1.022668\n",
       "4  364.743503  0.787566  0.721639  0.625502  0.464574  1.386861"
      ]
     },
     "execution_count": 10,
     "metadata": {},
     "output_type": "execute_result"
    }
   ],
   "source": [
    "x_train_df.head()"
   ]
  },
  {
   "cell_type": "code",
   "execution_count": 11,
   "id": "823c4ecf",
   "metadata": {},
   "outputs": [
    {
     "data": {
      "text/html": [
       "<div>\n",
       "<style scoped>\n",
       "    .dataframe tbody tr th:only-of-type {\n",
       "        vertical-align: middle;\n",
       "    }\n",
       "\n",
       "    .dataframe tbody tr th {\n",
       "        vertical-align: top;\n",
       "    }\n",
       "\n",
       "    .dataframe thead th {\n",
       "        text-align: right;\n",
       "    }\n",
       "</style>\n",
       "<table border=\"1\" class=\"dataframe\">\n",
       "  <thead>\n",
       "    <tr style=\"text-align: right;\">\n",
       "      <th></th>\n",
       "      <th>Length1</th>\n",
       "      <th>Length2</th>\n",
       "      <th>Length3</th>\n",
       "      <th>Height</th>\n",
       "      <th>Width</th>\n",
       "      <th>Species</th>\n",
       "    </tr>\n",
       "  </thead>\n",
       "  <tbody>\n",
       "    <tr>\n",
       "      <th>0</th>\n",
       "      <td>327.222687</td>\n",
       "      <td>-1.973881</td>\n",
       "      <td>-2.027958</td>\n",
       "      <td>-1.955171</td>\n",
       "      <td>-2.144525</td>\n",
       "      <td>-2.035456</td>\n",
       "    </tr>\n",
       "    <tr>\n",
       "      <th>1</th>\n",
       "      <td>327.222687</td>\n",
       "      <td>-1.467434</td>\n",
       "      <td>-1.461029</td>\n",
       "      <td>-1.480036</td>\n",
       "      <td>-1.727537</td>\n",
       "      <td>-1.648791</td>\n",
       "    </tr>\n",
       "    <tr>\n",
       "      <th>2</th>\n",
       "      <td>554.034743</td>\n",
       "      <td>0.294222</td>\n",
       "      <td>0.271366</td>\n",
       "      <td>0.461439</td>\n",
       "      <td>1.192401</td>\n",
       "      <td>0.294091</td>\n",
       "    </tr>\n",
       "    <tr>\n",
       "      <th>3</th>\n",
       "      <td>364.743503</td>\n",
       "      <td>-1.676960</td>\n",
       "      <td>-1.649227</td>\n",
       "      <td>-1.670317</td>\n",
       "      <td>-1.496063</td>\n",
       "      <td>-1.571302</td>\n",
       "    </tr>\n",
       "    <tr>\n",
       "      <th>4</th>\n",
       "      <td>364.743503</td>\n",
       "      <td>-0.013435</td>\n",
       "      <td>-0.025192</td>\n",
       "      <td>-0.154499</td>\n",
       "      <td>-0.392437</td>\n",
       "      <td>-0.093409</td>\n",
       "    </tr>\n",
       "  </tbody>\n",
       "</table>\n",
       "</div>"
      ],
      "text/plain": [
       "      Length1   Length2   Length3    Height     Width   Species\n",
       "0  327.222687 -1.973881 -2.027958 -1.955171 -2.144525 -2.035456\n",
       "1  327.222687 -1.467434 -1.461029 -1.480036 -1.727537 -1.648791\n",
       "2  554.034743  0.294222  0.271366  0.461439  1.192401  0.294091\n",
       "3  364.743503 -1.676960 -1.649227 -1.670317 -1.496063 -1.571302\n",
       "4  364.743503 -0.013435 -0.025192 -0.154499 -0.392437 -0.093409"
      ]
     },
     "execution_count": 11,
     "metadata": {},
     "output_type": "execute_result"
    }
   ],
   "source": [
    "x_test_df.head()"
   ]
  },
  {
   "cell_type": "code",
   "execution_count": 12,
   "id": "a2fbf99e",
   "metadata": {},
   "outputs": [
    {
     "data": {
      "text/html": [
       "<div>\n",
       "<style scoped>\n",
       "    .dataframe tbody tr th:only-of-type {\n",
       "        vertical-align: middle;\n",
       "    }\n",
       "\n",
       "    .dataframe tbody tr th {\n",
       "        vertical-align: top;\n",
       "    }\n",
       "\n",
       "    .dataframe thead th {\n",
       "        text-align: right;\n",
       "    }\n",
       "</style>\n",
       "<table border=\"1\" class=\"dataframe\">\n",
       "  <thead>\n",
       "    <tr style=\"text-align: right;\">\n",
       "      <th></th>\n",
       "      <th>Weight</th>\n",
       "    </tr>\n",
       "  </thead>\n",
       "  <tbody>\n",
       "    <tr>\n",
       "      <th>54</th>\n",
       "      <td>390.0</td>\n",
       "    </tr>\n",
       "    <tr>\n",
       "      <th>29</th>\n",
       "      <td>1000.0</td>\n",
       "    </tr>\n",
       "    <tr>\n",
       "      <th>115</th>\n",
       "      <td>690.0</td>\n",
       "    </tr>\n",
       "    <tr>\n",
       "      <th>143</th>\n",
       "      <td>1550.0</td>\n",
       "    </tr>\n",
       "    <tr>\n",
       "      <th>113</th>\n",
       "      <td>700.0</td>\n",
       "    </tr>\n",
       "  </tbody>\n",
       "</table>\n",
       "</div>"
      ],
      "text/plain": [
       "     Weight\n",
       "54    390.0\n",
       "29   1000.0\n",
       "115   690.0\n",
       "143  1550.0\n",
       "113   700.0"
      ]
     },
     "execution_count": 12,
     "metadata": {},
     "output_type": "execute_result"
    }
   ],
   "source": [
    "y_train.head()"
   ]
  },
  {
   "cell_type": "code",
   "execution_count": 13,
   "id": "93df8f1e",
   "metadata": {},
   "outputs": [
    {
     "data": {
      "text/html": [
       "<div>\n",
       "<style scoped>\n",
       "    .dataframe tbody tr th:only-of-type {\n",
       "        vertical-align: middle;\n",
       "    }\n",
       "\n",
       "    .dataframe tbody tr th {\n",
       "        vertical-align: top;\n",
       "    }\n",
       "\n",
       "    .dataframe thead th {\n",
       "        text-align: right;\n",
       "    }\n",
       "</style>\n",
       "<table border=\"1\" class=\"dataframe\">\n",
       "  <thead>\n",
       "    <tr style=\"text-align: right;\">\n",
       "      <th></th>\n",
       "      <th>Weight</th>\n",
       "    </tr>\n",
       "  </thead>\n",
       "  <tbody>\n",
       "    <tr>\n",
       "      <th>150</th>\n",
       "      <td>8.7</td>\n",
       "    </tr>\n",
       "    <tr>\n",
       "      <th>158</th>\n",
       "      <td>19.9</td>\n",
       "    </tr>\n",
       "    <tr>\n",
       "      <th>9</th>\n",
       "      <td>500.0</td>\n",
       "    </tr>\n",
       "    <tr>\n",
       "      <th>73</th>\n",
       "      <td>32.0</td>\n",
       "    </tr>\n",
       "    <tr>\n",
       "      <th>104</th>\n",
       "      <td>265.0</td>\n",
       "    </tr>\n",
       "  </tbody>\n",
       "</table>\n",
       "</div>"
      ],
      "text/plain": [
       "     Weight\n",
       "150     8.7\n",
       "158    19.9\n",
       "9     500.0\n",
       "73     32.0\n",
       "104   265.0"
      ]
     },
     "execution_count": 13,
     "metadata": {},
     "output_type": "execute_result"
    }
   ],
   "source": [
    "y_test.head()"
   ]
  },
  {
   "cell_type": "code",
   "execution_count": 14,
   "id": "b9a54af8",
   "metadata": {},
   "outputs": [],
   "source": [
    "md = Modeller(x_train_df, y_train, x_test_df, y_test, model_type, num_cat_cols, feature_select)"
   ]
  },
  {
   "cell_type": "code",
   "execution_count": 15,
   "id": "43b68d06",
   "metadata": {
    "scrolled": false
   },
   "outputs": [
    {
     "name": "stdout",
     "output_type": "stream",
     "text": [
      "Feature Selection is Running.....\n",
      "Selected Features:  ['Length1', 'Length2', 'Length3', 'Height', 'Width', 'Species']\n",
      "Best Model for Model ID 1:    LGBMRegressor(learning_rate=0.03, max_depth=3, num_leaves=7, random_state=11)\n",
      "Best Params for Model ID 1:    {'num_leaves': 7, 'n_estimators': 100, 'max_depth': 3, 'learning_rate': 0.03}\n",
      "Best Model for Model ID 2:    KNeighborsRegressor(algorithm='brute', n_neighbors=3, weights='distance')\n",
      "Best Params for Model ID 2:    {'weights': 'distance', 'n_neighbors': 3, 'algorithm': 'brute'}\n",
      "Best Model for Model ID 3:    LinearRegression()\n",
      "Best Params for Model ID 3:    {'fit_intercept': True}\n"
     ]
    },
    {
     "name": "stderr",
     "output_type": "stream",
     "text": [
      "/Users/shivaborusu/opt/anaconda3/envs/meta/lib/python3.10/site-packages/sklearn/model_selection/_search.py:292: UserWarning: The total space of parameters 2 is smaller than n_iter=10. Running 2 iterations. For exhaustive searches, use GridSearchCV.\n",
      "  warnings.warn(\n"
     ]
    },
    {
     "name": "stdout",
     "output_type": "stream",
     "text": [
      "Best Model for Model ID 4:    RandomForestRegressor(max_depth=5, n_estimators=200, random_state=11)\n",
      "Best Params for Model ID 4:    {'n_estimators': 200, 'min_samples_split': 2, 'max_depth': 5, 'criterion': 'squared_error'}\n",
      "Best Model for Model ID 5:    SVR(C=1, degree=4, kernel='linear')\n",
      "Best Params for Model ID 5:    {'kernel': 'linear', 'degree': 4, 'C': 1}\n",
      "Best Model for Model ID 6:    Ridge(alpha=0.2, solver='svd')\n",
      "Best Params for Model ID 6:    {'solver': 'svd', 'random_state': None, 'alpha': 0.2}\n"
     ]
    }
   ],
   "source": [
    "metrics_dict = md.build_model()"
   ]
  },
  {
   "cell_type": "code",
   "execution_count": 16,
   "id": "21c75b3c",
   "metadata": {},
   "outputs": [
    {
     "data": {
      "text/plain": [
       "{'model_1': {'r2_score': 0.9421033168144203, 'MSE': 5475.385839374458},\n",
       " 'model_2': {'r2_score': 0.9712128352182026, 'MSE': 2722.4501599989935},\n",
       " 'model_3': {'r2_score': 0.7923537815616875, 'MSE': 19637.449012277255},\n",
       " 'model_4': {'r2_score': 0.9682205157972323, 'MSE': 3005.438795668303},\n",
       " 'model_5': {'r2_score': 0.6825772954664632, 'MSE': 30019.194293530007},\n",
       " 'model_6': {'r2_score': 0.7865612858810132, 'MSE': 20185.25498456309}}"
      ]
     },
     "execution_count": 16,
     "metadata": {},
     "output_type": "execute_result"
    }
   ],
   "source": [
    "metrics_dict"
   ]
  },
  {
   "cell_type": "code",
   "execution_count": 17,
   "id": "cd47c6d4",
   "metadata": {},
   "outputs": [
    {
     "name": "stdout",
     "output_type": "stream",
     "text": [
      " * Serving Flask app \"app\" (lazy loading)\n",
      " * Environment: production\n",
      "\u001b[31m   WARNING: This is a development server. Do not use it in a production deployment.\u001b[0m\n",
      "\u001b[2m   Use a production WSGI server instead.\u001b[0m\n",
      " * Debug mode: on\n",
      " * Running on http://127.0.0.1:5000/ (Press CTRL+C to quit)\n",
      " * Restarting with watchdog (fsevents)\n",
      " * Debugger is active!\n",
      " * Debugger PIN: 596-221-605\n",
      "127.0.0.1 - - [10/Sep/2022 19:03:15] \"GET /apidocs/ HTTP/1.1\" 200 -\n",
      "127.0.0.1 - - [10/Sep/2022 19:03:15] \"GET /apispec_1.json HTTP/1.1\" 200 -\n",
      "127.0.0.1 - - [10/Sep/2022 19:03:30] \"POST /predict HTTP/1.1\" 200 -\n",
      "^C\n"
     ]
    }
   ],
   "source": [
    "!python app.py"
   ]
  },
  {
   "cell_type": "markdown",
   "id": "6b53dd33",
   "metadata": {},
   "source": [
    "## Classification Demo"
   ]
  },
  {
   "cell_type": "code",
   "execution_count": 2,
   "id": "057bf312",
   "metadata": {},
   "outputs": [],
   "source": [
    "#prima indians diabetes dataset\n",
    "dataset = pd.read_csv(\"/Users/shivaborusu/Development/Meta_Modeller/datasets/classification/pima-indians-diabetes.csv\", header=None)\n",
    "model_type = 'classifier'\n",
    "target_name = 8"
   ]
  },
  {
   "cell_type": "code",
   "execution_count": 3,
   "id": "74d34c7b",
   "metadata": {},
   "outputs": [],
   "source": [
    "#sonar dataset\n",
    "dataset = pd.read_csv(\"/Users/shivaborusu/Development/Meta_Modeller/datasets/classification/sonar.all-data\", header=None)\n",
    "model_type = 'classifier'\n",
    "target_name = 60"
   ]
  },
  {
   "cell_type": "code",
   "execution_count": 4,
   "id": "7d7d5f48",
   "metadata": {},
   "outputs": [],
   "source": [
    "#banknote authentication\n",
    "dataset = pd.read_csv(\"/Users/shivaborusu/Development/Meta_Modeller/datasets/classification/data_banknote_authentication.txt\", header=None)\n",
    "model_type = 'classifier'\n",
    "target_name = 4"
   ]
  },
  {
   "cell_type": "code",
   "execution_count": 5,
   "id": "68a986af",
   "metadata": {},
   "outputs": [
    {
     "data": {
      "text/html": [
       "<div>\n",
       "<style scoped>\n",
       "    .dataframe tbody tr th:only-of-type {\n",
       "        vertical-align: middle;\n",
       "    }\n",
       "\n",
       "    .dataframe tbody tr th {\n",
       "        vertical-align: top;\n",
       "    }\n",
       "\n",
       "    .dataframe thead th {\n",
       "        text-align: right;\n",
       "    }\n",
       "</style>\n",
       "<table border=\"1\" class=\"dataframe\">\n",
       "  <thead>\n",
       "    <tr style=\"text-align: right;\">\n",
       "      <th></th>\n",
       "      <th>0</th>\n",
       "      <th>1</th>\n",
       "      <th>2</th>\n",
       "      <th>3</th>\n",
       "      <th>4</th>\n",
       "    </tr>\n",
       "  </thead>\n",
       "  <tbody>\n",
       "    <tr>\n",
       "      <th>0</th>\n",
       "      <td>3.62160</td>\n",
       "      <td>8.6661</td>\n",
       "      <td>-2.8073</td>\n",
       "      <td>-0.44699</td>\n",
       "      <td>0</td>\n",
       "    </tr>\n",
       "    <tr>\n",
       "      <th>1</th>\n",
       "      <td>4.54590</td>\n",
       "      <td>8.1674</td>\n",
       "      <td>-2.4586</td>\n",
       "      <td>-1.46210</td>\n",
       "      <td>0</td>\n",
       "    </tr>\n",
       "    <tr>\n",
       "      <th>2</th>\n",
       "      <td>3.86600</td>\n",
       "      <td>-2.6383</td>\n",
       "      <td>1.9242</td>\n",
       "      <td>0.10645</td>\n",
       "      <td>0</td>\n",
       "    </tr>\n",
       "    <tr>\n",
       "      <th>3</th>\n",
       "      <td>3.45660</td>\n",
       "      <td>9.5228</td>\n",
       "      <td>-4.0112</td>\n",
       "      <td>-3.59440</td>\n",
       "      <td>0</td>\n",
       "    </tr>\n",
       "    <tr>\n",
       "      <th>4</th>\n",
       "      <td>0.32924</td>\n",
       "      <td>-4.4552</td>\n",
       "      <td>4.5718</td>\n",
       "      <td>-0.98880</td>\n",
       "      <td>0</td>\n",
       "    </tr>\n",
       "  </tbody>\n",
       "</table>\n",
       "</div>"
      ],
      "text/plain": [
       "         0       1       2        3  4\n",
       "0  3.62160  8.6661 -2.8073 -0.44699  0\n",
       "1  4.54590  8.1674 -2.4586 -1.46210  0\n",
       "2  3.86600 -2.6383  1.9242  0.10645  0\n",
       "3  3.45660  9.5228 -4.0112 -3.59440  0\n",
       "4  0.32924 -4.4552  4.5718 -0.98880  0"
      ]
     },
     "execution_count": 5,
     "metadata": {},
     "output_type": "execute_result"
    }
   ],
   "source": [
    "dataset.head()"
   ]
  },
  {
   "cell_type": "code",
   "execution_count": 6,
   "id": "0c851ab1",
   "metadata": {},
   "outputs": [
    {
     "name": "stdout",
     "output_type": "stream",
     "text": [
      "<class 'pandas.core.frame.DataFrame'>\n",
      "RangeIndex: 1372 entries, 0 to 1371\n",
      "Data columns (total 5 columns):\n",
      " #   Column  Non-Null Count  Dtype  \n",
      "---  ------  --------------  -----  \n",
      " 0   0       1372 non-null   float64\n",
      " 1   1       1372 non-null   float64\n",
      " 2   2       1372 non-null   float64\n",
      " 3   3       1372 non-null   float64\n",
      " 4   4       1372 non-null   int64  \n",
      "dtypes: float64(4), int64(1)\n",
      "memory usage: 53.7 KB\n"
     ]
    }
   ],
   "source": [
    "dataset.info()"
   ]
  },
  {
   "cell_type": "code",
   "execution_count": 7,
   "id": "cf8ddc5a",
   "metadata": {},
   "outputs": [],
   "source": [
    "pp = PreProcessor(dataset, model_type, target_name)"
   ]
  },
  {
   "cell_type": "code",
   "execution_count": 8,
   "id": "b0e34be1",
   "metadata": {},
   "outputs": [
    {
     "name": "stdout",
     "output_type": "stream",
     "text": [
      "No Category Columns, only numerical processing will run...\n"
     ]
    }
   ],
   "source": [
    "x_train_df, x_test_df, y_train, y_test, cols_list = pp.pre_processor()"
   ]
  },
  {
   "cell_type": "code",
   "execution_count": 9,
   "id": "d7df7f88",
   "metadata": {},
   "outputs": [],
   "source": [
    "md = Modeller(x_train_df, y_train, x_test_df, y_test, model_type, cols_list, feature_select=False)"
   ]
  },
  {
   "cell_type": "code",
   "execution_count": 10,
   "id": "c7d3c77b",
   "metadata": {},
   "outputs": [
    {
     "name": "stdout",
     "output_type": "stream",
     "text": [
      "Best Model for Model ID 1:    LGBMClassifier(max_depth=3, n_estimators=200, num_leaves=28, random_state=11)\n",
      "Best Params for Model ID 1:    {'num_leaves': 28, 'n_estimators': 200, 'max_depth': 3, 'learning_rate': 0.1, 'class_weight': None, 'boosting_type': 'gbdt'}\n",
      "Best Model for Model ID 2:    KNeighborsClassifier(algorithm='brute', leaf_size=50)\n",
      "Best Params for Model ID 2:    {'weights': 'uniform', 'n_neighbors': 5, 'leaf_size': 50, 'algorithm': 'brute'}\n",
      "Best Model for Model ID 3:    LogisticRegression(C=1, class_weight='balanced', random_state=11,\n",
      "                   solver='newton-cg')\n",
      "Best Params for Model ID 3:    {'solver': 'newton-cg', 'class_weight': 'balanced', 'C': 1}\n",
      "Best Model for Model ID 4:    RandomForestClassifier(max_depth=5, n_estimators=200, random_state=11)\n",
      "Best Params for Model ID 4:    {'n_estimators': 200, 'max_depth': 5, 'criterion': 'gini'}\n",
      "Best Model for Model ID 5:    SVC(C=2, degree=4, random_state=11)\n",
      "Best Params for Model ID 5:    {'random_state': 11, 'kernel': 'rbf', 'degree': 4, 'class_weight': None, 'C': 2}\n",
      "Best Model for Model ID 6:    RidgeClassifier(alpha=0.4, random_state=11, solver='lsqr')\n",
      "Best Params for Model ID 6:    {'solver': 'lsqr', 'random_state': 11, 'class_weight': None, 'alpha': 0.4}\n"
     ]
    }
   ],
   "source": [
    "metrics_dict = md.build_model()"
   ]
  },
  {
   "cell_type": "code",
   "execution_count": 11,
   "id": "ac3b8fbb",
   "metadata": {},
   "outputs": [
    {
     "data": {
      "text/plain": [
       "{'model_1': {'f1_score': 0.9896373056994819, 'accuracy': 0.9883381924198251},\n",
       " 'model_2': {'f1_score': 0.9974160206718347, 'accuracy': 0.9970845481049563},\n",
       " 'model_3': {'f1_score': 0.9974160206718347, 'accuracy': 0.9970845481049563},\n",
       " 'model_4': {'f1_score': 0.984375, 'accuracy': 0.9825072886297376},\n",
       " 'model_5': {'f1_score': 1.0, 'accuracy': 1.0},\n",
       " 'model_6': {'f1_score': 0.9680851063829787, 'accuracy': 0.9650145772594753}}"
      ]
     },
     "execution_count": 11,
     "metadata": {},
     "output_type": "execute_result"
    }
   ],
   "source": [
    "metrics_dict"
   ]
  },
  {
   "cell_type": "code",
   "execution_count": null,
   "id": "d8605d0a",
   "metadata": {},
   "outputs": [
    {
     "name": "stdout",
     "output_type": "stream",
     "text": [
      " * Serving Flask app \"app\" (lazy loading)\n",
      " * Environment: production\n",
      "\u001b[31m   WARNING: This is a development server. Do not use it in a production deployment.\u001b[0m\n",
      "\u001b[2m   Use a production WSGI server instead.\u001b[0m\n",
      " * Debug mode: on\n",
      " * Running on http://127.0.0.1:5000/ (Press CTRL+C to quit)\n",
      " * Restarting with watchdog (fsevents)\n",
      " * Debugger is active!\n",
      " * Debugger PIN: 596-221-605\n",
      "127.0.0.1 - - [10/Sep/2022 19:16:59] \"GET /apidocs/ HTTP/1.1\" 200 -\n",
      "127.0.0.1 - - [10/Sep/2022 19:17:00] \"GET /apispec_1.json HTTP/1.1\" 200 -\n",
      "127.0.0.1 - - [10/Sep/2022 19:17:15] \"POST /predict HTTP/1.1\" 200 -\n",
      " * Detected change in '/Users/shivaborusu/Development/Meta_Modeller/src/app.py', reloading\n",
      " * Detected change in '/Users/shivaborusu/Development/Meta_Modeller/src/app.py', reloading\n",
      " * Restarting with watchdog (fsevents)\n",
      " * Debugger is active!\n",
      " * Debugger PIN: 596-221-605\n"
     ]
    }
   ],
   "source": [
    "!python app.py"
   ]
  },
  {
   "cell_type": "code",
   "execution_count": null,
   "id": "86d1bba9",
   "metadata": {},
   "outputs": [],
   "source": []
  }
 ],
 "metadata": {
  "kernelspec": {
   "display_name": "Python 3 (ipykernel)",
   "language": "python",
   "name": "python3"
  },
  "language_info": {
   "codemirror_mode": {
    "name": "ipython",
    "version": 3
   },
   "file_extension": ".py",
   "mimetype": "text/x-python",
   "name": "python",
   "nbconvert_exporter": "python",
   "pygments_lexer": "ipython3",
   "version": "3.10.4"
  }
 },
 "nbformat": 4,
 "nbformat_minor": 5
}
