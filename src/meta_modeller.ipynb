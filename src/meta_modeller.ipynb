{
 "cells": [
  {
   "cell_type": "code",
   "execution_count": null,
   "id": "b3b26eb6",
   "metadata": {},
   "outputs": [],
   "source": [
    "# imports\n",
    "import pandas as pd\n",
    "import numpy as np\n",
    "SEED=11"
   ]
  },
  {
   "cell_type": "code",
   "execution_count": null,
   "id": "4a822694",
   "metadata": {},
   "outputs": [],
   "source": [
    "# read the data set\n",
    "dataset = pd.read_csv(\"./datasets/regression/car_prices/imports-85.data\", header=None)\n",
    "#dataset.rename(columns={25:\"target\"}, inplace=True)\n",
    "dataset.replace(\"?\", np.NaN, inplace=True)\n",
    "dataset = dataset[dataset[25].isnull() == False]\n"
   ]
  },
  {
   "cell_type": "code",
   "execution_count": null,
   "id": "233b5538",
   "metadata": {},
   "outputs": [],
   "source": [
    "dataset.to_csv(\"./datasets/regression/car_prices/car.csv\", index=False)\n",
    "dataset = pd.read_csv(\"./datasets/regression/car_prices/car.csv\")"
   ]
  },
  {
   "cell_type": "code",
   "execution_count": null,
   "id": "1d315179",
   "metadata": {},
   "outputs": [],
   "source": [
    "dataset.head()"
   ]
  },
  {
   "cell_type": "code",
   "execution_count": null,
   "id": "64276a55",
   "metadata": {},
   "outputs": [],
   "source": [
    "dataset.info()"
   ]
  },
  {
   "cell_type": "code",
   "execution_count": null,
   "id": "a0d0aebc",
   "metadata": {},
   "outputs": [],
   "source": [
    "target = dataset[[\"target\"]]\n",
    "dataset.drop(\"target\", axis=1, inplace=True)"
   ]
  },
  {
   "cell_type": "code",
   "execution_count": null,
   "id": "a8cdce08",
   "metadata": {},
   "outputs": [],
   "source": [
    "cat_cols = dataset.select_dtypes(include='object').columns\n",
    "num_cols = dataset.select_dtypes(exclude='object').columns"
   ]
  },
  {
   "cell_type": "code",
   "execution_count": null,
   "id": "201573d1",
   "metadata": {},
   "outputs": [],
   "source": [
    "cat_cols"
   ]
  },
  {
   "cell_type": "code",
   "execution_count": null,
   "id": "e5fd9799",
   "metadata": {},
   "outputs": [],
   "source": [
    "num_cols"
   ]
  },
  {
   "cell_type": "code",
   "execution_count": null,
   "id": "92137d53",
   "metadata": {},
   "outputs": [],
   "source": [
    "dataset_cat = dataset[cat_cols]\n",
    "dataset_num = dataset[num_cols]"
   ]
  },
  {
   "cell_type": "code",
   "execution_count": null,
   "id": "7dd4c4d8",
   "metadata": {},
   "outputs": [],
   "source": [
    "dataset_cat.head()"
   ]
  },
  {
   "cell_type": "code",
   "execution_count": null,
   "id": "f079976f",
   "metadata": {},
   "outputs": [],
   "source": [
    "dataset_num.head()"
   ]
  },
  {
   "cell_type": "code",
   "execution_count": null,
   "id": "aeb5c474",
   "metadata": {},
   "outputs": [],
   "source": [
    "from sklearn.model_selection import train_test_split"
   ]
  },
  {
   "cell_type": "code",
   "execution_count": null,
   "id": "45232246",
   "metadata": {},
   "outputs": [],
   "source": [
    "x_train_cat, x_test_cat, x_train_num, x_test_num, y_train, y_test =\\\n",
    "train_test_split(dataset_cat, dataset_num, target, random_state=SEED)"
   ]
  },
  {
   "cell_type": "code",
   "execution_count": null,
   "id": "de63bd7c",
   "metadata": {},
   "outputs": [],
   "source": [
    "x_train_cat.head()"
   ]
  },
  {
   "cell_type": "code",
   "execution_count": null,
   "id": "e0f01b85",
   "metadata": {},
   "outputs": [],
   "source": [
    "x_train_num.head()"
   ]
  },
  {
   "cell_type": "code",
   "execution_count": null,
   "id": "b6f4e08d",
   "metadata": {},
   "outputs": [],
   "source": [
    "y_train.head()"
   ]
  },
  {
   "cell_type": "code",
   "execution_count": null,
   "id": "3625d2a7",
   "metadata": {},
   "outputs": [],
   "source": [
    "from sklearn.impute import SimpleImputer"
   ]
  },
  {
   "cell_type": "code",
   "execution_count": null,
   "id": "9c8dd5e4",
   "metadata": {},
   "outputs": [],
   "source": [
    "imputer_cat = SimpleImputer(strategy='constant', fill_value='NA')\n",
    "imputer_num = SimpleImputer(strategy='median')"
   ]
  },
  {
   "cell_type": "code",
   "execution_count": null,
   "id": "bc2dc837",
   "metadata": {},
   "outputs": [],
   "source": [
    "x_train_cat = imputer_cat.fit_transform(x_train_cat)\n",
    "x_test_cat = imputer_cat.transform(x_test_cat)"
   ]
  },
  {
   "cell_type": "code",
   "execution_count": null,
   "id": "08dc3d76",
   "metadata": {},
   "outputs": [],
   "source": [
    "x_train_cat"
   ]
  },
  {
   "cell_type": "code",
   "execution_count": null,
   "id": "2da189aa",
   "metadata": {},
   "outputs": [],
   "source": [
    "x_train_num = imputer_num.fit_transform(x_train_num)\n",
    "x_test_num = imputer_num.transform(x_test_num)"
   ]
  },
  {
   "cell_type": "code",
   "execution_count": null,
   "id": "444a2080",
   "metadata": {},
   "outputs": [],
   "source": [
    "x_train = np.hstack([x_train_cat, x_train_num])\n",
    "x_test = np.hstack([x_test_cat, x_test_num])"
   ]
  },
  {
   "cell_type": "code",
   "execution_count": null,
   "id": "dd115bc7",
   "metadata": {},
   "outputs": [],
   "source": [
    "print(x_train.shape)\n",
    "print(x_test.shape)"
   ]
  },
  {
   "cell_type": "code",
   "execution_count": null,
   "id": "786c3a2e",
   "metadata": {},
   "outputs": [],
   "source": [
    "x_train_df = pd.DataFrame(x_train, dtype=None)\n",
    "x_train_df.to_csv(\"./datasets/regression/car_prices/x_train_df.csv\", index=False)\n",
    "x_train_df = pd.read_csv(\"./datasets/regression/car_prices/x_train_df.csv\")\n",
    "\n",
    "\n",
    "x_test_df = pd.DataFrame(x_test, dtype=None)\n",
    "x_test_df.to_csv(\"./datasets/regression/car_prices/x_test_df.csv\", index=False)\n",
    "x_test_df = pd.read_csv(\"./datasets/regression/car_prices/x_test_df.csv\")"
   ]
  },
  {
   "cell_type": "code",
   "execution_count": null,
   "id": "9569ff8b",
   "metadata": {},
   "outputs": [],
   "source": [
    "x_train_df.head()"
   ]
  },
  {
   "cell_type": "code",
   "execution_count": null,
   "id": "881d7030",
   "metadata": {},
   "outputs": [],
   "source": [
    "x_train_df.info()"
   ]
  },
  {
   "cell_type": "code",
   "execution_count": null,
   "id": "6281314d",
   "metadata": {},
   "outputs": [],
   "source": [
    "from lightgbm import LGBMRegressor, LGBMClassifier"
   ]
  },
  {
   "cell_type": "code",
   "execution_count": null,
   "id": "1a0ad21b",
   "metadata": {},
   "outputs": [],
   "source": [
    "regressor = LGBMRegressor(random_state=SEED)"
   ]
  },
  {
   "cell_type": "code",
   "execution_count": null,
   "id": "69a76214",
   "metadata": {},
   "outputs": [],
   "source": [
    "# classifier = LGBMClassifier(random_state=SEED)\n",
    "# classifier.fit(x_train_df, np.ravel(y_train), categorical_feature='auto')"
   ]
  },
  {
   "cell_type": "code",
   "execution_count": null,
   "id": "64dcc9bb",
   "metadata": {},
   "outputs": [],
   "source": [
    "x_train_df.info()"
   ]
  },
  {
   "cell_type": "code",
   "execution_count": null,
   "id": "9ed3f670",
   "metadata": {},
   "outputs": [],
   "source": [
    "cat_cols = x_train_df.select_dtypes(include='object').columns\n",
    "for col in cat_cols:\n",
    "    x_train_df[col] = x_train_df[col].astype('category')\n",
    "    x_test_df[col] = x_test_df[col].astype('category')"
   ]
  },
  {
   "cell_type": "code",
   "execution_count": null,
   "id": "2fc411d3",
   "metadata": {},
   "outputs": [],
   "source": [
    "x_train_df.info()"
   ]
  },
  {
   "cell_type": "code",
   "execution_count": null,
   "id": "c4e23244",
   "metadata": {},
   "outputs": [],
   "source": [
    "regressor.fit(x_train_df, np.ravel(y_train))"
   ]
  },
  {
   "cell_type": "code",
   "execution_count": null,
   "id": "8cb70de2",
   "metadata": {},
   "outputs": [],
   "source": [
    "preds = regressor.predict(x_test_df)"
   ]
  },
  {
   "cell_type": "code",
   "execution_count": null,
   "id": "36ad2f8d",
   "metadata": {},
   "outputs": [],
   "source": [
    "from sklearn.metrics import mean_squared_error, r2_score"
   ]
  },
  {
   "cell_type": "code",
   "execution_count": null,
   "id": "2f156238",
   "metadata": {},
   "outputs": [],
   "source": [
    "print(\"R2: \", r2_score(y_test, preds))"
   ]
  },
  {
   "cell_type": "markdown",
   "id": "7af663ce",
   "metadata": {},
   "source": [
    "## Feature selection exploration"
   ]
  },
  {
   "cell_type": "code",
   "execution_count": null,
   "id": "be746a35",
   "metadata": {},
   "outputs": [],
   "source": [
    "#imports\n",
    "from preprocessor import PreProcessor\n",
    "from modeler import Modeller\n",
    "import pandas as pd\n",
    "from sklearn.metrics import mean_squared_error, r2_score"
   ]
  },
  {
   "cell_type": "code",
   "execution_count": null,
   "id": "8afb4560",
   "metadata": {},
   "outputs": [],
   "source": [
    "# read the data set\n",
    "dataset = pd.read_csv(\"/Users/shivaborusu/Development/Meta_Modeller/datasets/regression/car_prices/imports-85.data\", header=None)\n",
    "model_type = 'regressor'\n",
    "target_name = 25"
   ]
  },
  {
   "cell_type": "code",
   "execution_count": null,
   "id": "57844507",
   "metadata": {},
   "outputs": [],
   "source": [
    "pp = PreProcessor(dataset, model_type, target_name)"
   ]
  },
  {
   "cell_type": "code",
   "execution_count": null,
   "id": "e13bd53f",
   "metadata": {},
   "outputs": [],
   "source": [
    "x_train_df, x_test_df, y_train, y_test, num_cat_cols = pp.pre_processor()"
   ]
  },
  {
   "cell_type": "code",
   "execution_count": null,
   "id": "b22d552c",
   "metadata": {},
   "outputs": [],
   "source": [
    "num_cat_cols"
   ]
  },
  {
   "cell_type": "code",
   "execution_count": null,
   "id": "3c952a13",
   "metadata": {},
   "outputs": [],
   "source": [
    "from sklearn.ensemble import RandomForestClassifier, RandomForestRegressor\n",
    "from sklearn.linear_model import LinearRegression, LogisticRegression\n",
    "from sklearn.neighbors import KNeighborsClassifier, KNeighborsRegressor\n",
    "from sklearn.feature_selection import SelectFromModel, RFECV"
   ]
  },
  {
   "cell_type": "code",
   "execution_count": null,
   "id": "d0df52d0",
   "metadata": {},
   "outputs": [],
   "source": [
    "model = RandomForestRegressor(random_state=11)"
   ]
  },
  {
   "cell_type": "code",
   "execution_count": null,
   "id": "66eb11fb",
   "metadata": {},
   "outputs": [],
   "source": [
    "feat_est =  RFECV(model)\n",
    "feat_est.fit(x_train_df, np.ravel(y_train))"
   ]
  },
  {
   "cell_type": "code",
   "execution_count": null,
   "id": "f7fb4620",
   "metadata": {},
   "outputs": [],
   "source": [
    "feat_est.feature_names_in_"
   ]
  },
  {
   "cell_type": "code",
   "execution_count": null,
   "id": "c67f4bf5",
   "metadata": {},
   "outputs": [],
   "source": [
    "len(feat_est.feature_names_in_)"
   ]
  },
  {
   "cell_type": "code",
   "execution_count": null,
   "id": "a95a1cac",
   "metadata": {},
   "outputs": [],
   "source": [
    "sup_indices = feat_est.get_support(indices=True)"
   ]
  },
  {
   "cell_type": "code",
   "execution_count": null,
   "id": "8072b04f",
   "metadata": {},
   "outputs": [],
   "source": [
    "sup_indices"
   ]
  },
  {
   "cell_type": "code",
   "execution_count": null,
   "id": "d53200c9",
   "metadata": {},
   "outputs": [],
   "source": [
    "feat_est.get_support()"
   ]
  },
  {
   "cell_type": "code",
   "execution_count": null,
   "id": "f01a02bf",
   "metadata": {},
   "outputs": [],
   "source": [
    "selected_feat = [x_train_df.columns.tolist()[i] for i in sup_indices]"
   ]
  },
  {
   "cell_type": "code",
   "execution_count": null,
   "id": "2dce7c7d",
   "metadata": {},
   "outputs": [],
   "source": [
    "selected_feat"
   ]
  },
  {
   "cell_type": "markdown",
   "id": "e53d2324",
   "metadata": {},
   "source": [
    "## Classifiction Models Building"
   ]
  },
  {
   "cell_type": "code",
   "execution_count": 8,
   "id": "1ee2bfaa",
   "metadata": {},
   "outputs": [],
   "source": [
    "# imports\n",
    "import pandas as pd\n",
    "import numpy as np\n",
    "SEED=11\n",
    "\n",
    "#imports\n",
    "from preprocessor import PreProcessor\n",
    "from modeler import Modeller\n",
    "import pandas as pd\n",
    "from sklearn.metrics import mean_squared_error, r2_score"
   ]
  },
  {
   "cell_type": "code",
   "execution_count": 9,
   "id": "f0151fe2",
   "metadata": {},
   "outputs": [],
   "source": [
    "dataset = pd.read_csv(\"/Users/shivaborusu/Development/Meta_Modeller/datasets/classification/pima-indians-diabetes.csv\", header=None)\n",
    "model_type = 'classifier'\n",
    "target_name = 8"
   ]
  },
  {
   "cell_type": "code",
   "execution_count": 12,
   "id": "84fad284",
   "metadata": {},
   "outputs": [],
   "source": [
    "dataset = pd.read_csv(\"/Users/shivaborusu/Development/Meta_Modeller/datasets/classification/sonar.all-data\", header=None)\n",
    "model_type = 'classifier'\n",
    "target_name = 60"
   ]
  },
  {
   "cell_type": "code",
   "execution_count": 2,
   "id": "c1dc7887",
   "metadata": {},
   "outputs": [],
   "source": [
    "dataset = pd.read_csv(\"/Users/shivaborusu/Development/Meta_Modeller/datasets/classification/data_banknote_authentication.txt\", header=None)\n",
    "model_type = 'classifier'\n",
    "target_name = 4"
   ]
  },
  {
   "cell_type": "code",
   "execution_count": 13,
   "id": "6d0c0243",
   "metadata": {},
   "outputs": [
    {
     "data": {
      "text/html": [
       "<div>\n",
       "<style scoped>\n",
       "    .dataframe tbody tr th:only-of-type {\n",
       "        vertical-align: middle;\n",
       "    }\n",
       "\n",
       "    .dataframe tbody tr th {\n",
       "        vertical-align: top;\n",
       "    }\n",
       "\n",
       "    .dataframe thead th {\n",
       "        text-align: right;\n",
       "    }\n",
       "</style>\n",
       "<table border=\"1\" class=\"dataframe\">\n",
       "  <thead>\n",
       "    <tr style=\"text-align: right;\">\n",
       "      <th></th>\n",
       "      <th>0</th>\n",
       "      <th>1</th>\n",
       "      <th>2</th>\n",
       "      <th>3</th>\n",
       "      <th>4</th>\n",
       "      <th>5</th>\n",
       "      <th>6</th>\n",
       "      <th>7</th>\n",
       "      <th>8</th>\n",
       "      <th>9</th>\n",
       "      <th>...</th>\n",
       "      <th>51</th>\n",
       "      <th>52</th>\n",
       "      <th>53</th>\n",
       "      <th>54</th>\n",
       "      <th>55</th>\n",
       "      <th>56</th>\n",
       "      <th>57</th>\n",
       "      <th>58</th>\n",
       "      <th>59</th>\n",
       "      <th>60</th>\n",
       "    </tr>\n",
       "  </thead>\n",
       "  <tbody>\n",
       "    <tr>\n",
       "      <th>0</th>\n",
       "      <td>0.0200</td>\n",
       "      <td>0.0371</td>\n",
       "      <td>0.0428</td>\n",
       "      <td>0.0207</td>\n",
       "      <td>0.0954</td>\n",
       "      <td>0.0986</td>\n",
       "      <td>0.1539</td>\n",
       "      <td>0.1601</td>\n",
       "      <td>0.3109</td>\n",
       "      <td>0.2111</td>\n",
       "      <td>...</td>\n",
       "      <td>0.0027</td>\n",
       "      <td>0.0065</td>\n",
       "      <td>0.0159</td>\n",
       "      <td>0.0072</td>\n",
       "      <td>0.0167</td>\n",
       "      <td>0.0180</td>\n",
       "      <td>0.0084</td>\n",
       "      <td>0.0090</td>\n",
       "      <td>0.0032</td>\n",
       "      <td>R</td>\n",
       "    </tr>\n",
       "    <tr>\n",
       "      <th>1</th>\n",
       "      <td>0.0453</td>\n",
       "      <td>0.0523</td>\n",
       "      <td>0.0843</td>\n",
       "      <td>0.0689</td>\n",
       "      <td>0.1183</td>\n",
       "      <td>0.2583</td>\n",
       "      <td>0.2156</td>\n",
       "      <td>0.3481</td>\n",
       "      <td>0.3337</td>\n",
       "      <td>0.2872</td>\n",
       "      <td>...</td>\n",
       "      <td>0.0084</td>\n",
       "      <td>0.0089</td>\n",
       "      <td>0.0048</td>\n",
       "      <td>0.0094</td>\n",
       "      <td>0.0191</td>\n",
       "      <td>0.0140</td>\n",
       "      <td>0.0049</td>\n",
       "      <td>0.0052</td>\n",
       "      <td>0.0044</td>\n",
       "      <td>R</td>\n",
       "    </tr>\n",
       "    <tr>\n",
       "      <th>2</th>\n",
       "      <td>0.0262</td>\n",
       "      <td>0.0582</td>\n",
       "      <td>0.1099</td>\n",
       "      <td>0.1083</td>\n",
       "      <td>0.0974</td>\n",
       "      <td>0.2280</td>\n",
       "      <td>0.2431</td>\n",
       "      <td>0.3771</td>\n",
       "      <td>0.5598</td>\n",
       "      <td>0.6194</td>\n",
       "      <td>...</td>\n",
       "      <td>0.0232</td>\n",
       "      <td>0.0166</td>\n",
       "      <td>0.0095</td>\n",
       "      <td>0.0180</td>\n",
       "      <td>0.0244</td>\n",
       "      <td>0.0316</td>\n",
       "      <td>0.0164</td>\n",
       "      <td>0.0095</td>\n",
       "      <td>0.0078</td>\n",
       "      <td>R</td>\n",
       "    </tr>\n",
       "    <tr>\n",
       "      <th>3</th>\n",
       "      <td>0.0100</td>\n",
       "      <td>0.0171</td>\n",
       "      <td>0.0623</td>\n",
       "      <td>0.0205</td>\n",
       "      <td>0.0205</td>\n",
       "      <td>0.0368</td>\n",
       "      <td>0.1098</td>\n",
       "      <td>0.1276</td>\n",
       "      <td>0.0598</td>\n",
       "      <td>0.1264</td>\n",
       "      <td>...</td>\n",
       "      <td>0.0121</td>\n",
       "      <td>0.0036</td>\n",
       "      <td>0.0150</td>\n",
       "      <td>0.0085</td>\n",
       "      <td>0.0073</td>\n",
       "      <td>0.0050</td>\n",
       "      <td>0.0044</td>\n",
       "      <td>0.0040</td>\n",
       "      <td>0.0117</td>\n",
       "      <td>R</td>\n",
       "    </tr>\n",
       "    <tr>\n",
       "      <th>4</th>\n",
       "      <td>0.0762</td>\n",
       "      <td>0.0666</td>\n",
       "      <td>0.0481</td>\n",
       "      <td>0.0394</td>\n",
       "      <td>0.0590</td>\n",
       "      <td>0.0649</td>\n",
       "      <td>0.1209</td>\n",
       "      <td>0.2467</td>\n",
       "      <td>0.3564</td>\n",
       "      <td>0.4459</td>\n",
       "      <td>...</td>\n",
       "      <td>0.0031</td>\n",
       "      <td>0.0054</td>\n",
       "      <td>0.0105</td>\n",
       "      <td>0.0110</td>\n",
       "      <td>0.0015</td>\n",
       "      <td>0.0072</td>\n",
       "      <td>0.0048</td>\n",
       "      <td>0.0107</td>\n",
       "      <td>0.0094</td>\n",
       "      <td>R</td>\n",
       "    </tr>\n",
       "  </tbody>\n",
       "</table>\n",
       "<p>5 rows × 61 columns</p>\n",
       "</div>"
      ],
      "text/plain": [
       "       0       1       2       3       4       5       6       7       8   \\\n",
       "0  0.0200  0.0371  0.0428  0.0207  0.0954  0.0986  0.1539  0.1601  0.3109   \n",
       "1  0.0453  0.0523  0.0843  0.0689  0.1183  0.2583  0.2156  0.3481  0.3337   \n",
       "2  0.0262  0.0582  0.1099  0.1083  0.0974  0.2280  0.2431  0.3771  0.5598   \n",
       "3  0.0100  0.0171  0.0623  0.0205  0.0205  0.0368  0.1098  0.1276  0.0598   \n",
       "4  0.0762  0.0666  0.0481  0.0394  0.0590  0.0649  0.1209  0.2467  0.3564   \n",
       "\n",
       "       9   ...      51      52      53      54      55      56      57  \\\n",
       "0  0.2111  ...  0.0027  0.0065  0.0159  0.0072  0.0167  0.0180  0.0084   \n",
       "1  0.2872  ...  0.0084  0.0089  0.0048  0.0094  0.0191  0.0140  0.0049   \n",
       "2  0.6194  ...  0.0232  0.0166  0.0095  0.0180  0.0244  0.0316  0.0164   \n",
       "3  0.1264  ...  0.0121  0.0036  0.0150  0.0085  0.0073  0.0050  0.0044   \n",
       "4  0.4459  ...  0.0031  0.0054  0.0105  0.0110  0.0015  0.0072  0.0048   \n",
       "\n",
       "       58      59  60  \n",
       "0  0.0090  0.0032   R  \n",
       "1  0.0052  0.0044   R  \n",
       "2  0.0095  0.0078   R  \n",
       "3  0.0040  0.0117   R  \n",
       "4  0.0107  0.0094   R  \n",
       "\n",
       "[5 rows x 61 columns]"
      ]
     },
     "execution_count": 13,
     "metadata": {},
     "output_type": "execute_result"
    }
   ],
   "source": [
    "dataset.head()"
   ]
  },
  {
   "cell_type": "code",
   "execution_count": 14,
   "id": "725e358e",
   "metadata": {},
   "outputs": [
    {
     "name": "stdout",
     "output_type": "stream",
     "text": [
      "<class 'pandas.core.frame.DataFrame'>\n",
      "RangeIndex: 208 entries, 0 to 207\n",
      "Data columns (total 61 columns):\n",
      " #   Column  Non-Null Count  Dtype  \n",
      "---  ------  --------------  -----  \n",
      " 0   0       208 non-null    float64\n",
      " 1   1       208 non-null    float64\n",
      " 2   2       208 non-null    float64\n",
      " 3   3       208 non-null    float64\n",
      " 4   4       208 non-null    float64\n",
      " 5   5       208 non-null    float64\n",
      " 6   6       208 non-null    float64\n",
      " 7   7       208 non-null    float64\n",
      " 8   8       208 non-null    float64\n",
      " 9   9       208 non-null    float64\n",
      " 10  10      208 non-null    float64\n",
      " 11  11      208 non-null    float64\n",
      " 12  12      208 non-null    float64\n",
      " 13  13      208 non-null    float64\n",
      " 14  14      208 non-null    float64\n",
      " 15  15      208 non-null    float64\n",
      " 16  16      208 non-null    float64\n",
      " 17  17      208 non-null    float64\n",
      " 18  18      208 non-null    float64\n",
      " 19  19      208 non-null    float64\n",
      " 20  20      208 non-null    float64\n",
      " 21  21      208 non-null    float64\n",
      " 22  22      208 non-null    float64\n",
      " 23  23      208 non-null    float64\n",
      " 24  24      208 non-null    float64\n",
      " 25  25      208 non-null    float64\n",
      " 26  26      208 non-null    float64\n",
      " 27  27      208 non-null    float64\n",
      " 28  28      208 non-null    float64\n",
      " 29  29      208 non-null    float64\n",
      " 30  30      208 non-null    float64\n",
      " 31  31      208 non-null    float64\n",
      " 32  32      208 non-null    float64\n",
      " 33  33      208 non-null    float64\n",
      " 34  34      208 non-null    float64\n",
      " 35  35      208 non-null    float64\n",
      " 36  36      208 non-null    float64\n",
      " 37  37      208 non-null    float64\n",
      " 38  38      208 non-null    float64\n",
      " 39  39      208 non-null    float64\n",
      " 40  40      208 non-null    float64\n",
      " 41  41      208 non-null    float64\n",
      " 42  42      208 non-null    float64\n",
      " 43  43      208 non-null    float64\n",
      " 44  44      208 non-null    float64\n",
      " 45  45      208 non-null    float64\n",
      " 46  46      208 non-null    float64\n",
      " 47  47      208 non-null    float64\n",
      " 48  48      208 non-null    float64\n",
      " 49  49      208 non-null    float64\n",
      " 50  50      208 non-null    float64\n",
      " 51  51      208 non-null    float64\n",
      " 52  52      208 non-null    float64\n",
      " 53  53      208 non-null    float64\n",
      " 54  54      208 non-null    float64\n",
      " 55  55      208 non-null    float64\n",
      " 56  56      208 non-null    float64\n",
      " 57  57      208 non-null    float64\n",
      " 58  58      208 non-null    float64\n",
      " 59  59      208 non-null    float64\n",
      " 60  60      208 non-null    object \n",
      "dtypes: float64(60), object(1)\n",
      "memory usage: 99.2+ KB\n"
     ]
    }
   ],
   "source": [
    "dataset.info()"
   ]
  },
  {
   "cell_type": "code",
   "execution_count": 4,
   "id": "799f71d0",
   "metadata": {},
   "outputs": [
    {
     "data": {
      "text/html": [
       "<div>\n",
       "<style scoped>\n",
       "    .dataframe tbody tr th:only-of-type {\n",
       "        vertical-align: middle;\n",
       "    }\n",
       "\n",
       "    .dataframe tbody tr th {\n",
       "        vertical-align: top;\n",
       "    }\n",
       "\n",
       "    .dataframe thead th {\n",
       "        text-align: right;\n",
       "    }\n",
       "</style>\n",
       "<table border=\"1\" class=\"dataframe\">\n",
       "  <thead>\n",
       "    <tr style=\"text-align: right;\">\n",
       "      <th></th>\n",
       "      <th>0</th>\n",
       "      <th>1</th>\n",
       "      <th>2</th>\n",
       "      <th>3</th>\n",
       "      <th>4</th>\n",
       "    </tr>\n",
       "  </thead>\n",
       "  <tbody>\n",
       "    <tr>\n",
       "      <th>0</th>\n",
       "      <td>3.62160</td>\n",
       "      <td>8.6661</td>\n",
       "      <td>-2.8073</td>\n",
       "      <td>-0.44699</td>\n",
       "      <td>0</td>\n",
       "    </tr>\n",
       "    <tr>\n",
       "      <th>1</th>\n",
       "      <td>4.54590</td>\n",
       "      <td>8.1674</td>\n",
       "      <td>-2.4586</td>\n",
       "      <td>-1.46210</td>\n",
       "      <td>0</td>\n",
       "    </tr>\n",
       "    <tr>\n",
       "      <th>2</th>\n",
       "      <td>3.86600</td>\n",
       "      <td>-2.6383</td>\n",
       "      <td>1.9242</td>\n",
       "      <td>0.10645</td>\n",
       "      <td>0</td>\n",
       "    </tr>\n",
       "    <tr>\n",
       "      <th>3</th>\n",
       "      <td>3.45660</td>\n",
       "      <td>9.5228</td>\n",
       "      <td>-4.0112</td>\n",
       "      <td>-3.59440</td>\n",
       "      <td>0</td>\n",
       "    </tr>\n",
       "    <tr>\n",
       "      <th>4</th>\n",
       "      <td>0.32924</td>\n",
       "      <td>-4.4552</td>\n",
       "      <td>4.5718</td>\n",
       "      <td>-0.98880</td>\n",
       "      <td>0</td>\n",
       "    </tr>\n",
       "  </tbody>\n",
       "</table>\n",
       "</div>"
      ],
      "text/plain": [
       "         0       1       2        3  4\n",
       "0  3.62160  8.6661 -2.8073 -0.44699  0\n",
       "1  4.54590  8.1674 -2.4586 -1.46210  0\n",
       "2  3.86600 -2.6383  1.9242  0.10645  0\n",
       "3  3.45660  9.5228 -4.0112 -3.59440  0\n",
       "4  0.32924 -4.4552  4.5718 -0.98880  0"
      ]
     },
     "execution_count": 4,
     "metadata": {},
     "output_type": "execute_result"
    }
   ],
   "source": [
    "dataset.head()"
   ]
  },
  {
   "cell_type": "code",
   "execution_count": 3,
   "id": "97a7d12c",
   "metadata": {},
   "outputs": [],
   "source": [
    "pp = PreProcessor(dataset, model_type, target_name)"
   ]
  },
  {
   "cell_type": "code",
   "execution_count": 4,
   "id": "0f301180",
   "metadata": {},
   "outputs": [
    {
     "name": "stdout",
     "output_type": "stream",
     "text": [
      "No Category Columns, only numerical processing will run...\n"
     ]
    }
   ],
   "source": [
    "x_train_df, x_test_df, y_train, y_test, cols_list = pp.pre_processor()"
   ]
  },
  {
   "cell_type": "code",
   "execution_count": 5,
   "id": "7e167318",
   "metadata": {},
   "outputs": [],
   "source": [
    "md = Modeller(x_train_df, y_train, x_test_df, y_test, model_type, cols_list, feature_select=False)"
   ]
  },
  {
   "cell_type": "code",
   "execution_count": 6,
   "id": "0e590f14",
   "metadata": {},
   "outputs": [
    {
     "name": "stdout",
     "output_type": "stream",
     "text": [
      "Best Model for Model ID 1:    LGBMClassifier(learning_rate=0.03, n_estimators=500, num_leaves=14,\n",
      "               random_state=11)\n",
      "Best Params for Model ID 1:    {'num_leaves': 14, 'n_estimators': 500, 'max_depth': -1, 'learning_rate': 0.03, 'class_weight': None, 'boosting_type': 'gbdt'}\n",
      "Best Model for Model ID 2:    KNeighborsClassifier(algorithm='kd_tree', n_neighbors=3)\n",
      "Best Params for Model ID 2:    {'weights': 'uniform', 'n_neighbors': 3, 'leaf_size': 30, 'algorithm': 'kd_tree'}\n",
      "Best Model for Model ID 3:    LogisticRegression(C=0.2, random_state=11, solver='newton-cg')\n",
      "Best Params for Model ID 3:    {'solver': 'newton-cg', 'class_weight': None, 'C': 0.2}\n",
      "Best Model for Model ID 4:    RandomForestClassifier(criterion='entropy', max_depth=5, random_state=11)\n",
      "Best Params for Model ID 4:    {'n_estimators': 100, 'max_depth': 5, 'criterion': 'entropy'}\n",
      "Best Model for Model ID 5:    SVC(C=2, degree=4, random_state=11)\n",
      "Best Params for Model ID 5:    {'random_state': 11, 'kernel': 'rbf', 'degree': 4, 'class_weight': None, 'C': 2}\n",
      "Best Model for Model ID 6:    RidgeClassifier(alpha=1, random_state=11, solver='sag')\n",
      "Best Params for Model ID 6:    {'solver': 'sag', 'random_state': 11, 'class_weight': None, 'alpha': 1}\n"
     ]
    }
   ],
   "source": [
    "metrics_dict = md.build_model()"
   ]
  },
  {
   "cell_type": "code",
   "execution_count": 7,
   "id": "108259aa",
   "metadata": {},
   "outputs": [
    {
     "data": {
      "text/plain": [
       "{'model_1': {'f1_score': 0.8627450980392156, 'accuracy': 0.8653846153846154},\n",
       " 'model_2': {'f1_score': 0.7017543859649122, 'accuracy': 0.6730769230769231},\n",
       " 'model_3': {'f1_score': 0.8, 'accuracy': 0.8076923076923077},\n",
       " 'model_4': {'f1_score': 0.8214285714285715, 'accuracy': 0.8076923076923077},\n",
       " 'model_5': {'f1_score': 0.8, 'accuracy': 0.8076923076923077},\n",
       " 'model_6': {'f1_score': 0.7692307692307693, 'accuracy': 0.7692307692307693}}"
      ]
     },
     "execution_count": 7,
     "metadata": {},
     "output_type": "execute_result"
    }
   ],
   "source": [
    "metrics_dict"
   ]
  },
  {
   "cell_type": "code",
   "execution_count": null,
   "id": "6fd649b2",
   "metadata": {},
   "outputs": [],
   "source": []
  }
 ],
 "metadata": {
  "kernelspec": {
   "display_name": "Python 3 (ipykernel)",
   "language": "python",
   "name": "python3"
  },
  "language_info": {
   "codemirror_mode": {
    "name": "ipython",
    "version": 3
   },
   "file_extension": ".py",
   "mimetype": "text/x-python",
   "name": "python",
   "nbconvert_exporter": "python",
   "pygments_lexer": "ipython3",
   "version": "3.10.4"
  }
 },
 "nbformat": 4,
 "nbformat_minor": 5
}
